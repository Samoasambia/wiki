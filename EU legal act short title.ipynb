{
 "cells": [
  {
   "cell_type": "markdown",
   "id": "f5b64715-bbcc-4ab6-a7fd-0b4c130572c2",
   "metadata": {},
   "source": [
    "# Regexes for short titles of EU legal acts"
   ]
  },
  {
   "cell_type": "markdown",
   "id": "0f15c268-ce3b-4c3e-a21a-73ee1d055de6",
   "metadata": {},
   "source": [
    "### Regex list"
   ]
  },
  {
   "cell_type": "code",
   "execution_count": 565,
   "id": "7ce71c7c-cd6c-422c-abc9-4304ce9ae308",
   "metadata": {},
   "outputs": [],
   "source": [
    "regex_list = {\n",
    "    \"bg\": r\"^(Делегиран )?(Регламент|Директива|Решение)( за изпълнение)? \\([^)]+\\) \\d{4}/\\d+ на (Европейския парламент и на Съвета|Съвета|Комисията)\",\n",
    "    \"cs\": r\"^(Prováděcí )?(Nařízení|Směrnice|Rozhodnutí)( Rady| Komise)?( v přenesené pravomoci)? \\([^)]+\\) \\d{4}/\\d+( Evropského parlamentu a Rady)?\",\n",
    "    \"da\": r\"^(Europa-Parlamentets og Rådets|Rådets|Kommissionens) (delegerede |gennemførelses)?(forordning|direktiv|afgørelse) \\([^)]+\\) \\d{4}/\\d+\",\n",
    "    \"de\": r\"^(Delegierte |Durchführungs)?(Verordnung|Richtlinie|Beschluss) \\([^)]+\\) \\d{4}/\\d+ (des Europäischen Parlaments und des Rates|des Rates|der Kommission)\",\n",
    "    \"el\": r\"^(Κατ' εξουσιοδότηση |Εκτελεστικός |Εκτελεστική)?(Κανονισμός|Οδηγία|Απόφαση) \\([^)]+\\) \\d{4}/\\d+ (του Ευρωπαϊκού Κοινοβουλίου και του Συμβουλίου|του Συμβουλίου|της Επιτροπής)\",\n",
    "    \"en\": r\"^(Council |Commission )?(Delegated |Implementing )?(Regulation|Directive|Decision) \\([^)]+\\) \\d{4}/\\d+( of the European Parliament and of the Council)?\",\n",
    "    \"es\": r\"^(Reglamento|Directiva|Decisión)( Delegado| de Ejecución)? \\([^)]+\\) \\d{4}/\\d+ (del Parlamento Europeo y del Consejo|del Consejo|de la Comisión)\",\n",
    "    \"et\": r\"^(Euroopa Parlamendi ja nõukogu|Nõukogu|Komisjoni) (delegeeritud |rakendus)?(määrus|direktiiv|otsus) \\([^)]+\\) \\d{4}/\\d+\",\n",
    "    \"fi\": r\"^(Euroopan parlamentin ja neuvoston|Neuvoston|Komission) (delegoitu |täytäntöönpano)?(Asetus|Direktiivi|Päätös) \\([^)]+\\) \\d{4}/\\d+\",\n",
    "    \"fr\": r\"^(Règlement|Directive|Décision)( délégué| d'exécution)? \\([^)]+\\) \\d{4}/\\d+ (du Parlement européen et du Conseil|du Conseil|de la Commission)\",\n",
    "    \"ga\": r\"^(Rialachán|Treoir|Cinneadh)( Tarmligthe| Cur Chun Feidhme)?( ón gComhairle)? \\([^)]+\\) \\d{4}/\\d+( ó Pharlaimint na hEorpa agus ón gComhairle| ón gCoimisiún)?\",\n",
    "    \"hr\": r\"^(Delegirana |Provedbena )?(Uredba|Direktiva|Odluka)( Vijeća| Komisije)? \\([^)]+\\) \\d{4}/\\d+( Europskog parlamenta i Vijeća)?\",\n",
    "    \"hu\": r\"^(Az Európai Parlament és a Tanács|A Tanács|A Bizottság) \\([^)]+\\) \\d{4}/\\d+ (felhatalmazáson alapuló |végrehajtási )?(rendelete|irányelve|határozata)\",\n",
    "    \"it\": r\"^(Regolamento|Direttiva|Decisione)( delegato| di esecuzione)? \\([^)]+\\) \\d{4}/\\d+ (del Parlamento europeo e del Consiglio|del Consiglio|della Commissione)\",\n",
    "    \"lt\": r\"^\", # oh god, date comes first in Lithuanian titles\n",
    "    \"lv\": r\"^(Eiropas Parlamenta un Padomes|Padomes|Komisijas) (Deleģētā |Īstenošanas )?(Regula|Direktīva|lēmums) \\([^)]+\\) \\d{4}/\\d+\",\n",
    "    \"mt\": r\"^(Regolament|Direttiva|Deċiżjoni)( delegat| ta' Implimentazzjoni)?( tal-Kunsill| tal-Kummissjoni)? \\([^)]+\\) \\d{4}/\\d+ (tal-Parlament Ewropew u tal-Kunsill)?\",\n",
    "    \"nl\": r\"^(Gedelegeerde |Uitvoerings)?(Verordening|Richtlijn|Besluit) \\([^)]+\\) \\d{4}/\\d+ van (het Europees Parlement en de Raad|de Raad|de Commissie)\",\n",
    "    \"pl\": r\"^(Rozporządzenie|Dyrektywa|Decyzja)( delegowane| delegowana| wykonawcze| wykonawcza)? (Parlamentu Europejskiego i Rady|Rady|Komisji) \\([^)]+\\) \\d{4}/\\d+\",\n",
    "    \"pt\": r\"^(Regulamento|Diretiva|Decisão)( Delegado| de Execução)? \\([^)]+\\) \\d{4}/\\d+ (do Parlamento Europeu e do Conselho|do Conselho|da Comissão)\",\n",
    "    \"ro\": r\"^(Regulamentul|Directiva|Decizia)( delegat| de punere în aplicare)? \\([^)]+\\) \\d{4}/\\d+ (al Parlamentului European și al Consiliului|a Consiliului|al Comisiei)\",\n",
    "    \"sk\": r\"^(Delegované |Vykonávacie )?(Nariadenie|Smernica|Rozhodnutie) (Európskeho parlamentu a Rady|Rady|Komisie) \\([^)]+\\) \\d{4}/\\d+\",\n",
    "    \"sl\": r\"^(Delegirana |Delegirani |Izvedbena |Izvedbeni )?(Uredba|Direktiva|Sklep)( Sveta| Komisije)? \\([^)]+\\) \\d{4}/\\d+( Evropskega parlamenta in Sveta)?\",\n",
    "    \"sv\": r\"^(Europaparlamentets och rådets|Rådets|Kommissionens) (delegerade |genomförande)?(Förordning|Direktiv|Beslut) \\([^)]+\\) \\d{4}/\\d+\",\n",
    "    }\n",
    "\n",
    "# \\([^)]+\\) \\d{4}/\\d+ => regex for the legal domain inside parens followed by 4-digit year, slash and a number (works from 1 January 2015 onwards)"
   ]
  },
  {
   "cell_type": "markdown",
   "id": "279729be-5398-4ea9-9c5e-443798ca1b6f",
   "metadata": {},
   "source": [
    "### Function for shortening"
   ]
  },
  {
   "cell_type": "code",
   "execution_count": 566,
   "id": "01ec9109-cf79-49d4-ac1a-3349ca7bc2ff",
   "metadata": {},
   "outputs": [],
   "source": [
    "import re\n",
    "\n",
    "def shorten(lang, title):\n",
    "\n",
    "    # get the right regex for the given language\n",
    "    regex = regex_list.get(lang)\n",
    "    # if not regex:\n",
    "        # raise ValueError(f\"Unknown language: {lang}\")\n",
    "\n",
    "    # matching with the regex\n",
    "    match = re.search(regex, title, re.IGNORECASE)\n",
    "    if match:\n",
    "        return match.group(0)\n",
    "    \n",
    "# BUG: IGNORECASE doesn't work in Greek"
   ]
  },
  {
   "cell_type": "markdown",
   "id": "32d6a212-bc15-46b2-9c17-f8dfba3a29e5",
   "metadata": {},
   "source": [
    "### Test case 1 (EP+Council Regulation)"
   ]
  },
  {
   "cell_type": "code",
   "execution_count": 568,
   "id": "9277a862-3270-49a4-b780-670efafbb4af",
   "metadata": {},
   "outputs": [
    {
     "name": "stdout",
     "output_type": "stream",
     "text": [
      "bg: Регламент (ЕС) 2016/679 на Европейския парламент и на Съвета\n",
      "cs: Nařízení (EU) 2016/679 Evropského parlamentu a Rady\n",
      "da: Europa-Parlamentets og Rådets forordning (EU) 2016/679\n",
      "de: Verordnung (EU) 2016/679 des Europäischen Parlaments und des Rates\n",
      "el: Κανονισμός (ΕΕ) 2016/679 του Ευρωπαϊκού Κοινοβουλίου και του Συμβουλίου\n",
      "en: Regulation (EU) 2016/679 of the European Parliament and of the Council\n",
      "es: Reglamento (UE) 2016/679 del Parlamento Europeo y del Consejo\n",
      "et: Euroopa Parlamendi ja nõukogu määrus (EL) 2016/679\n",
      "fi: Euroopan parlamentin ja neuvoston asetus (EU) 2016/679\n",
      "fr: Règlement (UE) 2016/679 du Parlement européen et du Conseil\n",
      "ga: Rialachán (AE) 2016/679 ó Pharlaimint na hEorpa agus ón gComhairle\n",
      "hr: Uredba (EU) 2016/679 Europskog parlamenta i Vijeća\n",
      "hu: Az Európai Parlament és a Tanács (EU) 2016/679 rendelete\n",
      "it: Regolamento (UE) 2016/679 del Parlamento europeo e del Consiglio\n",
      "lt: \n",
      "lv: Eiropas Parlamenta un Padomes Regula (ES) 2016/679\n",
      "mt: Regolament (UE) 2016/679 tal-Parlament Ewropew u tal-Kunsill\n",
      "nl: Verordening (EU) 2016/679 van het Europees Parlement en de Raad\n",
      "pl: Rozporządzenie Parlamentu Europejskiego i Rady (UE) 2016/679\n",
      "pt: Regulamento (UE) 2016/679 do Parlamento Europeu e do Conselho\n",
      "ro: Regulamentul (UE) 2016/679 al Parlamentului European și al Consiliului\n",
      "sk: Nariadenie Európskeho parlamentu a Rady (EÚ) 2016/679\n",
      "sl: Uredba (EU) 2016/679 Evropskega parlamenta in Sveta\n",
      "sv: Europaparlamentets och rådets förordning (EU) 2016/679\n"
     ]
    }
   ],
   "source": [
    "# http://data.europa.eu/eli/reg/2016/679/oj\n",
    "\n",
    "test_dict1 = {\n",
    "    \"bg\": \"Регламент (ЕС) 2016/679 на Европейския парламент и на Съвета от 27 април 2016 година относно защитата на физическите лица във връзка с обработването на лични данни и относно свободното движение на такива данни и за отмяна на Директива 95/46/ЕО (Общ регламент относно защитата на данните) (текст от значение за ЕИП)\",\n",
    "    \"cs\": \"Nařízení (EU) 2016/679 Evropského parlamentu a Rady ze dne 27. dubna 2016 o ochraně fyzických osob v souvislosti se zpracováním osobních údajů a o volném pohybu těchto údajů a o zrušení směrnice 95/46/ES (obecné nařízení o ochraně osobních údajů) (Text s významem pro EHP)\",\n",
    "    \"da\": \"Europa-Parlamentets og Rådets forordning (EU) 2016/679 af 27. april 2016 om beskyttelse af fysiske personer i forbindelse med behandling af personoplysninger og om fri udveksling af sådanne oplysninger og om ophævelse af direktiv 95/46/EF (generel forordning om databeskyttelse) (EØS-relevant tekst)\",\n",
    "    \"de\": \"Verordnung (EU) 2016/679 des Europäischen Parlaments und des Rates vom 27. April 2016 zum Schutz natürlicher Personen bei der Verarbeitung personenbezogener Daten, zum freien Datenverkehr und zur Aufhebung der Richtlinie 95/46/EG (Datenschutz-Grundverordnung) (Text von Bedeutung für den EWR)\",\n",
    "    \"el\": \"Κανονισμός (ΕΕ) 2016/679 του Ευρωπαϊκού Κοινοβουλίου και του Συμβουλίου της 27ης Απριλίου 2016 για την προστασία των φυσικών προσώπων έναντι της επεξεργασίας δεδομένων προσωπικού χαρακτήρα και για την ελεύθερη κυκλοφορία των δεδομένων αυτών και για την κατάργηση της οδηγίας 95/46/ΕΚ (Γενικός Κανονισμός για την Προστασία Δεδομένων) (Κείμενο που παρουσιάζει ενδιαφέρον για τον ΕΟΧ)\",\n",
    "    \"en\": \"Regulation (EU) 2016/679 of the European Parliament and of the Council of 27 April 2016 on the protection of natural persons with regard to the processing of personal data and on the free movement of such data, and repealing Directive 95/46/EC (General Data Protection Regulation) (Text with EEA relevance)\",\n",
    "    \"es\": \"Reglamento (UE) 2016/679 del Parlamento Europeo y del Consejo de 27 de abril de 2016 relativo a la protección de las personas físicas en lo que respecta al tratamiento de datos personales y a la libre circulación de estos datos y por el que se deroga la Directiva 95/46/CE (Reglamento general de protección de datos) (Texto pertinente a efectos del EEE)\",\n",
    "    \"et\": \"Euroopa Parlamendi ja nõukogu määrus (EL) 2016/679, 27. aprill 2016, füüsiliste isikute kaitse kohta isikuandmete töötlemisel ja selliste andmete vaba liikumise kohta ning millega tunnistatakse kehtetuks direktiiv 95/46/EÜ (isikuandmete kaitse üldmäärus) (EMPs kohaldatav tekst)\",\n",
    "    \"fi\": \"Euroopan parlamentin ja neuvoston asetus (EU) 2016/679, annettu 27 päivänä huhtikuuta 2016, luonnollisten henkilöiden suojelusta henkilötietojen käsittelyssä sekä näiden tietojen vapaasta liikkuvuudesta ja direktiivin 95/46/EY kumoamisesta (yleinen tietosuoja-asetus) (ETA:n kannalta merkityksellinen teksti)\",\n",
    "    \"fr\": \"Règlement (UE) 2016/679 du Parlement européen et du Conseil du 27 avril 2016 relatif à la protection des personnes physiques à l'égard du traitement des données à caractère personnel et à la libre circulation de ces données et abrogeant la directive 95/46/CE (règlement général sur la protection des données) (Texte présentant de l'intérêt pour l'EEE)\",\n",
    "    \"ga\": \"Rialachán (AE) 2016/679 ó Pharlaimint na hEorpa agus ón gComhairle an 27 Aibreán 2016 maidir le cosaint daoine nádúrtha i ndáil le próiseáil sonraí pearsanta agus maidir le saorghluaiseacht na sonraí sin, agus lena n-aisghairtear Treoir 95/46/CE (Rialachán Ginearálta maidir le Cosaint Sonraí) (Téacs atá ábhartha maidir leis an LEE)\",\n",
    "    \"hr\": \"Uredba (EU) 2016/679 Europskog parlamenta i Vijeća od 27. travnja 2016. o zaštiti pojedinaca u vezi s obradom osobnih podataka i o slobodnom kretanju takvih podataka te o stavljanju izvan snage Direktive 95/46/EZ (Opća uredba o zaštiti podataka) (Tekst značajan za EGP)\",\n",
    "    \"hu\": \"Az Európai Parlament és a Tanács (EU) 2016/679 rendelete (2016. április 27.) a természetes személyeknek a személyes adatok kezelése tekintetében történő védelméről és az ilyen adatok szabad áramlásáról, valamint a 95/46/EK irányelv hatályon kívül helyezéséről (általános adatvédelmi rendelet) (EGT-vonatkozású szöveg)\",\n",
    "    \"it\": \"Regolamento (UE) 2016/679 del Parlamento europeo e del Consiglio del 27 aprile 2016 relativo alla protezione delle persone fisiche con riguardo al trattamento dei dati personali, nonché alla libera circolazione di tali dati e che abroga la direttiva 95/46/CE (regolamento generale sulla protezione dei dati) (Testo rilevante ai fini del SEE)\",\n",
    "    \"lt\": \"2016 m. balandžio 27 d. Europos Parlamento ir Tarybos reglamentas (ES) 2016/679 dėl fizinių asmenų apsaugos tvarkant asmens duomenis ir dėl laisvo tokių duomenų judėjimo ir panaikinantis Direktyvą 95/46/EB (Bendrasis duomenų apsaugos reglamentas) (Tekstas svarbus EEE)\",\n",
    "    \"lv\": \"Eiropas Parlamenta un Padomes Regula (ES) 2016/679 (2016. gada 27. aprīlis) par fizisku personu aizsardzību attiecībā uz personas datu apstrādi un šādu datu brīvu apriti un ar ko atceļ Direktīvu 95/46/EK (Vispārīgā datu aizsardzības regula) (Dokuments attiecas uz EEZ)\",\n",
    "    \"mt\": \"Regolament (UE) 2016/679 tal-Parlament Ewropew u tal-Kunsill tat-27 ta' April 2016 dwar il-protezzjoni ta' persuni fiżiċi fir-rigward tal-ipproċessar ta' data personali u dwar il-moviment liberu ta' tali data, u li jħassar id-Direttiva 95/46/KE (Regolament Ġenerali dwar il-Protezzjoni tad-Data) (Test b'rilevanza għaż-ŻEE)\",\n",
    "    \"nl\": \"Verordening (EU) 2016/679 van het Europees Parlement en de Raad van 27 april 2016 betreffende de bescherming van natuurlijke personen in verband met de verwerking van persoonsgegevens en betreffende het vrije verkeer van die gegevens en tot intrekking van Richtlijn 95/46/EG (algemene verordening gegevensbescherming) (Tekst met EER-relevantie)\",\n",
    "    \"pl\": \"Rozporządzenie Parlamentu Europejskiego i Rady (UE) 2016/679 z dnia 27 kwietnia 2016 r. w sprawie ochrony osób fizycznych w związku z przetwarzaniem danych osobowych i w sprawie swobodnego przepływu takich danych oraz uchylające dyrektywę 95/46/WE (ogólne rozporządzenie o ochronie danych) (Tekst mający znaczenie dla EOG)\",\n",
    "    \"pt\": \"Regulamento (UE) 2016/679 do Parlamento Europeu e do Conselho de 27 de abril de 2016 relativo à proteção das pessoas singulares no que diz respeito ao tratamento de dados pessoais e à livre circulação desses dados e que revoga a Diretiva 95/46/CE (Regulamento Geral sobre a Proteção de Dados) (Texto relevante para o EEE)\",\n",
    "    \"ro\": \"Regulamentul (UE) 2016/679 al Parlamentului European și al Consiliului din 27 aprilie 2016 privind protecția persoanelor fizice în ceea ce privește prelucrarea datelor cu caracter personal și privind libera circulație a acestor date și de abrogare a Directivei 95/46/CE (Regulamentul general privind protecția datelor) (Text cu relevanță pentru SEE)\",\n",
    "    \"sk\": \"Nariadenie Európskeho parlamentu a Rady (EÚ) 2016/679 z 27. apríla 2016 o ochrane fyzických osôb pri spracúvaní osobných údajov a o voľnom pohybe takýchto údajov a o zrušení smernice 95/46/ES (všeobecné nariadenie o ochrane údajov) (Text s významom pre EHP)\",\n",
    "    \"sl\": \"Uredba (EU) 2016/679 Evropskega parlamenta in Sveta z dne 27. aprila 2016 o varstvu posameznikov pri obdelavi osebnih podatkov in o prostem pretoku takih podatkov ter o razveljavitvi Direktive 95/46/ES (splošna uredba o varstvu podatkov) (Besedilo velja za EGP)\",\n",
    "    \"sv\": \"Europaparlamentets och rådets förordning (EU) 2016/679 av den 27 april 2016 om skydd för fysiska personer med avseende på behandling av personuppgifter och om det fria flödet av sådana uppgifter och om upphävande av direktiv 95/46/EG (allmän dataskyddsförordning) (Text av betydelse för EES)\",\n",
    "    }\n",
    "\n",
    "for lang, title in test_dict1.items():\n",
    "    print(f\"{lang}: {shorten(lang, title)}\")"
   ]
  },
  {
   "cell_type": "markdown",
   "id": "56ed4803-762b-46bc-95bc-cfd85d3e68cb",
   "metadata": {},
   "source": [
    "### Test case 2 (Council Directive)"
   ]
  },
  {
   "cell_type": "code",
   "execution_count": 569,
   "id": "9ebc0f56-ed4e-4568-8369-5e63a2a19e25",
   "metadata": {},
   "outputs": [
    {
     "name": "stdout",
     "output_type": "stream",
     "text": [
      "bg: Директива (ЕС) 2024/1499 на Съвета\n",
      "cs: Směrnice Rady (EU) 2024/1499\n",
      "da: Rådets direktiv (EU) 2024/1499\n",
      "de: Richtlinie (EU) 2024/1499 des Rates\n",
      "el: Οδηγία (ΕΕ) 2024/1499 του Συμβουλίου\n",
      "en: Council Directive (EU) 2024/1499\n",
      "es: Directiva (UE) 2024/1499 del Consejo\n",
      "et: Nõukogu direktiiv (EL) 2024/1499\n",
      "fi: Neuvoston direktiivi (EU) 2024/1499\n",
      "fr: Directive (UE) 2024/1499 du Conseil\n",
      "ga: Treoir ón gComhairle (AE) 2024/1499\n",
      "hr: Direktiva Vijeća (EU) 2024/1499\n",
      "hu: A Tanács (EU) 2024/1499 irányelve\n",
      "it: Direttiva (UE) 2024/1499 del Consiglio\n",
      "lt: \n",
      "lv: Padomes Direktīva (ES) 2024/1499\n",
      "mt: Direttiva tal-Kunsill (UE) 2024/1499 \n",
      "nl: Richtlijn (EU) 2024/1499 van de Raad\n",
      "pl: Dyrektywa Rady (UE) 2024/1499\n",
      "pt: Diretiva (UE) 2024/1499 do Conselho\n",
      "ro: Directiva (UE) 2024/1499 a Consiliului\n",
      "sk: Smernica Rady (EÚ) 2024/1499\n",
      "sl: Direktiva Sveta (EU) 2024/1499\n",
      "sv: Rådets direktiv (EU) 2024/1499\n"
     ]
    }
   ],
   "source": [
    "# https://eur-lex.europa.eu/eli/dir/2024/1499/oj\n",
    "\n",
    "test_dict2 = {\n",
    "    \"bg\": \"Директива (ЕС) 2024/1499 на Съвета от 7 май 2024 година относно стандартите за органите за равенство в областта на равното третиране на лицата независимо от техния расов или етнически произход, равно третиране в областта на заетостта и професиите независимо от тяхната религия или убеждения, увреждане, възраст или сексуална ориентация, равно третиране между жените и мъжете в областта на социалното осигуряване и при достъпа до стоки и услуги и тяхното предоставяне, и за изменение на директиви 2000/43/ЕО и 2004/113/ЕО\",\n",
    "    \"cs\": \"Směrnice Rady (EU) 2024/1499 ze dne 7. května 2024 o normách pro orgány pro rovné zacházení v oblasti rovného zacházení s osobami bez ohledu na jejich rasový nebo etnický původ, rovného zacházení v oblasti zaměstnání a povolání bez ohledu na jejich náboženské vyznání nebo víru, zdravotní postižení, věk nebo sexuální orientaci, rovného zacházení mezi ženami a muži v oblasti sociálního zabezpečení a při přístupu ke zboží a službám a jejich poskytování, a o změně směrnic 2000/43/ES a 2004/113/ES\",\n",
    "    \"da\": \"Rådets direktiv (EU) 2024/1499 af 7. maj 2024 om standarder for ligebehandlingsorganer på området for ligebehandling af personer uanset deres race eller etniske oprindelse, ligebehandling på beskæftigelses- og erhvervsområdet uanset deres religion eller tro, handicap, alder eller seksuelle orientering, ligebehandling mellem kvinder og mænd på området for social sikring og ved adgang til og levering af varer og tjenester, og om ændring af direktiverne 2000/43/EF og 2004/113/EF\",\n",
    "    \"de\": \"Richtlinie (EU) 2024/1499 des Rates vom 7. Mai 2024 über Standards für Gleichbehandlungsstellen im Bereich der Gleichbehandlung von Personen unabhängig von ihrer Rasse oder ethnischen Herkunft, der Gleichbehandlung im Bereich Beschäftigung und Beruf unabhängig von ihrer Religion oder Weltanschauung, Behinderung, Alter oder sexuellen Orientierung, der Gleichbehandlung von Frauen und Männern im Bereich der sozialen Sicherheit und beim Zugang zu und der Bereitstellung von Gütern und Dienstleistungen und zur Änderung der Richtlinien 2000/43/EG und 2004/113/EG\",\n",
    "    \"el\": \"Οδηγία (ΕΕ) 2024/1499 του Συμβουλίου της 7ης Μαΐου 2024 σχετικά με τα πρότυπα για τους φορείς ισότητας στον τομέα της ίσης μεταχείρισης των προσώπων ανεξαρτήτως φυλετικής ή εθνοτικής καταγωγής, της ίσης μεταχείρισης στον τομέα της απασχόλησης και της εργασίας ανεξαρτήτως θρησκείας ή πεποιθήσεων, αναπηρίας, ηλικίας ή σεξουαλικού προσανατολισμού, της ίσης μεταχείρισης μεταξύ γυναικών και ανδρών στον τομέα της κοινωνικής ασφάλισης και στην πρόσβαση και παροχή αγαθών και υπηρεσιών, και για την τροποποίηση των οδηγιών 2000/43/ΕΚ και 2004/113/ΕΚ\",\n",
    "    \"en\": \"Council Directive (EU) 2024/1499 of 7 May 2024 on standards for equality bodies in the field of equal treatment between persons irrespective of their racial or ethnic origin, equal treatment in matters of employment and occupation between persons irrespective of their religion or belief, disability, age or sexual orientation, equal treatment between women and men in matters of social security and in the access to and supply of goods and services, and amending Directives 2000/43/EC and 2004/113/EC\",\n",
    "    \"es\": \"Directiva (UE) 2024/1499 del Consejo, de 7 de mayo de 2024, sobre las normas relativas a los organismos de igualdad en el ámbito de la igualdad de trato entre las personas con independencia de su origen racial o étnico, la igualdad de trato entre las personas en materia de empleo y ocupación con independencia de su religión o convicciones, discapacidad, edad u orientación sexual, y la igualdad de trato entre mujeres y hombres en materia de seguridad social y en el acceso a bienes y servicios y su suministro, y por la que se modifican las Directivas 2000/43/CE y 2004/113/CE\",\n",
    "    \"et\": \"Nõukogu direktiiv (EL) 2024/1499, 7. mai 2024, standardite kohta, mis käsitlevad võrdõiguslikkuse asutusi isikute võrdse kohtlemise valdkonnas, sõltumata nende rassilisest või etnilisest päritolust, võrdset kohtlemist tööhõive ja elukutse valdkonnas, sõltumata nende usutunnistusest või veendumustest, puudest, vanusest või seksuaalsest sättumusest, naiste ja meeste võrdset kohtlemist sotsiaalkindlustuse valdkonnas ning kaupade ja teenuste kättesaadavust ja pakkumist, ning millega muudetakse direktiive 2000/43/EÜ ja 2004/113/EÜ\",\n",
    "    \"fi\": \"Neuvoston direktiivi (EU) 2024/1499, annettu 7 päivänä toukokuuta 2024, yhdenvertaisuuselinten standardeista henkilöiden yhdenvertaisen kohtelun alalla riippumatta heidän rodustaan tai etnisestä alkuperästään, yhdenvertaisesta kohtelusta työllisyyden ja ammatin alalla riippumatta heidän uskonnostaan tai vakaumuksistaan, vammastaan, iästään tai seksuaalisesta suuntautumisestaan, naisten ja miesten yhdenvertaisesta kohtelusta sosiaaliturvan alalla sekä tavaroiden ja palvelujen saatavuudesta ja tarjonnasta, ja direktiivien 2000/43/EY ja 2004/113/EY muuttamisesta\",\n",
    "    \"fr\": \"Directive (UE) 2024/1499 du Conseil du 7 mai 2024 relative aux normes applicables aux organismes de promotion de l'égalité de traitement entre les personnes indépendamment de leur origine raciale ou ethnique, à l'égalité de traitement en matière d'emploi et de profession indépendamment de leur religion ou de leurs convictions, d'un handicap, de l'âge ou de l'orientation sexuelle, à l'égalité de traitement entre les femmes et les hommes en matière de sécurité sociale et à l'accès aux biens et services et à leur fourniture, et modifiant les directives 2000/43/CE et 2004/113/CE\",\n",
    "    \"ga\": \"Treoir ón gComhairle (AE) 2024/1499 an 7 Bealtaine 2024 maidir le caighdeáin do chomhlachtaí comhionannais i réimse an chomhionannais córa idir daoine beag beann ar a gcine nó a mbunadh eitneach, comhionannas córa i gcúrsaí fostaíochta agus slí bheatha beag beann ar a gcreideamh nó a gcreideamh, míchumas, aois nó claonadh gnéasach, comhionannas córa idir mná agus fir i gcúrsaí slándála sóisialta agus i rochtain ar earraí agus seirbhísí agus a soláthar, agus lena leasaítear Treoracha 2000/43/CE agus 2004/113/CE\",\n",
    "    \"hr\": \"Direktiva Vijeća (EU) 2024/1499 od 7. svibnja 2024. o standardima za tijela za ravnopravnost u području jednakog postupanja prema osobama bez obzira na njihovo rasno ili etničko podrijetlo, jednakog postupanja u pitanjima zapošljavanja i zanimanja bez obzira na njihovu vjeru ili uvjerenja, invaliditet, dob ili seksualnu orijentaciju, jednakog postupanja između žena i muškaraca u pitanjima socijalne sigurnosti te u pristupu robi i uslugama i njihovoj isporuci, i o izmjeni direktiva 2000/43/EZ i 2004/113/EZ\",\n",
    "    \"hu\": \"A Tanács (EU) 2024/1499 irányelve (2024. május 7.) az egyenlő bánásmóddal foglalkozó szervek normáiról a személyek faji vagy etnikai származásától független egyenlő bánásmód területén, a vallásuktól vagy meggyőződésüktől, fogyatékosságuktól, életkoruktól vagy szexuális irányultságuktól független egyenlő bánásmódról a foglalkoztatás és a szakma területén, a nők és férfiak közötti egyenlő bánásmódról a szociális biztonság területén, valamint az árukhoz és szolgáltatásokhoz való hozzáférés és azok nyújtása terén, és az 2000/43/EK és a 2004/113/EK irányelvek módosításáról\",\n",
    "    \"it\": \"Direttiva (UE) 2024/1499 del Consiglio del 7 maggio 2024 relativa alle norme per gli organismi per la parità di trattamento nel campo della parità di trattamento tra le persone indipendentemente dalla razza o dall'origine etnica, della parità di trattamento in materia di occupazione e professione indipendentemente dalla religione o dalle convinzioni personali, dalla disabilità, dall'età o dall'orientamento sessuale, della parità di trattamento tra donne e uomini in materia di sicurezza sociale e nell'accesso ai beni e servizi e alla loro fornitura, e che modifica le direttive 2000/43/CE e 2004/113/CE\",\n",
    "    \"lt\": \"2024 m. gegužės 7 d. Tarybos direktyva (ES) 2024/1499 dėl lygybės institucijų standartų asmenų lygybės nepriklausomai nuo jų rasės ar etninės kilmės, lygybės užimtumo ir profesinės veiklos srityse nepriklausomai nuo jų religijos ar įsitikinimų, negalios, amžiaus ar seksualinės orientacijos, lygybės tarp moterų ir vyrų socialinės apsaugos srityje ir prekių bei paslaugų prieigos ir teikimo srityje, ir iš dalies keičianti direktyvas 2000/43/EB ir 2004/113/EB\",\n",
    "    \"lv\": \"Padomes Direktīva (ES) 2024/1499 (2024. gada 7. maijs) par vienlīdzības iestāžu standartiem attiecībā uz vienlīdzīgu attieksmi pret personām neatkarīgi no to rases vai etniskās izcelsmes, vienlīdzīgu attieksmi nodarbinātības un profesijas jomā neatkarīgi no to reliģijas vai pārliecības, invaliditātes, vecuma vai seksuālās orientācijas, vienlīdzīgu attieksmi starp sievietēm un vīriešiem sociālās aizsardzības jomā un piekļuvi precēm un pakalpojumiem un to sniegšanu, un ar ko groza direktīvas 2000/43/EK un 2004/113/EK\",\n",
    "    \"mt\": \"Direttiva tal-Kunsill (UE) 2024/1499 tas-7 ta' Mejju 2024 dwar standards għall-korpi għall-ugwaljanza fil-qasam tat-trattament ugwali bejn il-persuni irrispettivament mir-razza jew l-oriġini etnika tagħhom, trattament ugwali f'materji ta' impjieg u okkupazzjoni bejn il-persuni irrispettivament mir-reliġjon jew it-twemmin tagħhom, diżabilità, età jew orjentazzjoni sesswali, trattament ugwali bejn in-nisa u l-irġiel f'materji ta' sigurtà soċjali u fl-aċċess għall-oġġetti u s-servizzi u l-provvista tagħhom, u li temenda d-Direttivi 2000/43/KE u 2004/113/KE\",\n",
    "    \"nl\": \"Richtlijn (EU) 2024/1499 van de Raad van 7 mei 2024 betreffende normen voor gelijkheidsorganen op het gebied van gelijke behandeling van personen ongeacht hun ras of etnische afkomst, gelijke behandeling op het gebied van werkgelegenheid en beroep ongeacht hun godsdienst of overtuiging, handicap, leeftijd of seksuele geaardheid, gelijke behandeling van vrouwen en mannen op het gebied van sociale zekerheid en bij de toegang tot en levering van goederen en diensten, en tot wijziging van de richtlijnen 2000/43/EG en 2004/113/EG\",\n",
    "    \"pl\": \"Dyrektywa Rady (UE) 2024/1499 z dnia 7 maja 2024 r. w sprawie norm dla organów ds. równości w zakresie równego traktowania osób bez względu na rasę lub pochodzenie etniczne, równego traktowania w sprawach zatrudnienia i pracy osób bez względu na religię lub przekonania, niepełnosprawność, wiek lub orientację seksualną, równego traktowania kobiet i mężczyzn w sprawach zabezpieczenia społecznego oraz dostępu do towarów i usług i ich dostarczania, oraz zmieniająca dyrektywy 2000/43/WE i 2004/113/WE\",\n",
    "    \"pt\": \"Diretiva (UE) 2024/1499 do Conselho de 7 de maio de 2024 relativa às normas para os organismos de igualdade no domínio da igualdade de tratamento entre as pessoas independentemente da sua raça ou origem étnica, igualdade de tratamento em matéria de emprego e profissão entre as pessoas independentemente da sua religião ou crença, deficiência, idade ou orientação sexual, igualdade de tratamento entre mulheres e homens em matéria de segurança social e no acesso a bens e serviços e respetivo fornecimento, e que altera as Diretivas 2000/43/CE e 2004/113/CE\",\n",
    "    \"ro\": \"Directiva (UE) 2024/1499 a Consiliului din 7 mai 2024 privind standardele pentru organismele de egalitate în domeniul egalității de tratament între persoane, indiferent de rasă sau origine etnică, egalitatea de tratament în materie de ocupare a forței de muncă și profesie între persoane, indiferent de religie sau convingeri, dizabilitate, vârstă sau orientare sexuală, egalitatea de tratament între femei și bărbați în materie de securitate socială și în accesul la bunuri și servicii și furnizarea acestora, și de modificare a directivelor 2000/43/CE și 2004/113/CE\",\n",
    "    \"sk\": \"Smernica Rady (EÚ) 2024/1499 z 7. mája 2024 o normách pre orgány pre rovnaké zaobchádzanie v oblasti rovnakého zaobchádzania s osobami bez ohľadu na ich rasový alebo etnický pôvod, rovnakého zaobchádzania v oblasti zamestnanosti a povolania bez ohľadu na ich náboženstvo alebo vieru, zdravotné postihnutie, vek alebo sexuálnu orientáciu, rovnakého zaobchádzania medzi ženami a mužmi v oblasti sociálneho zabezpečenia a v prístupe k tovarom a službám a ich poskytovaní, a o zmene smerníc 2000/43/ES a 2004/113/ES\",\n",
    "    \"sl\": \"Direktiva Sveta (EU) 2024/1499 z dne 7. maja 2024 o standardih za organe za enakost na področju enakega obravnavanja oseb ne glede na njihovo raso ali etnično poreklo, enakega obravnavanja na področju zaposlovanja in poklicev ne glede na njihovo vero ali prepričanje, invalidnost, starost ali spolno usmerjenost, enakega obravnavanja žensk in moških na področju socialne varnosti ter dostopa do blaga in storitev in njihovega zagotavljanja, in o spremembi direktiv 2000/43/ES in 2004/113/ES\",\n",
    "    \"sv\": \"Rådets direktiv (EU) 2024/1499 av den 7 maj 2024 om normer för likabehandlingsorgan på området för likabehandling av personer oavsett ras eller etniskt ursprung, likabehandling i arbetslivet och yrkeslivet oavsett religion eller övertygelse, funktionshinder, ålder eller sexuell läggning, likabehandling mellan kvinnor och män i fråga om social trygghet och tillgång till och tillhandahållande av varor och tjänster, och om ändring av direktiven 2000/43/EG och 2004/113/EG\"\n",
    "}\n",
    "\n",
    "for lang, title in test_dict2.items():\n",
    "    print(f\"{lang}: {shorten(lang, title)}\")"
   ]
  },
  {
   "cell_type": "markdown",
   "id": "b491f887-2684-42d3-8dc0-6cb171eb2ba8",
   "metadata": {},
   "source": [
    "### Test case 3 (Commission Regulation)"
   ]
  },
  {
   "cell_type": "code",
   "execution_count": 570,
   "id": "a5af7c72-9e8d-4b91-86e2-5e8636a06730",
   "metadata": {},
   "outputs": [
    {
     "name": "stdout",
     "output_type": "stream",
     "text": [
      "bg: Регламент (ЕС) 2023/1066 на Комисията\n",
      "cs: Nařízení Komise (EU) 2023/1066\n",
      "da: Kommissionens forordning (EU) 2023/1066\n",
      "de: Verordnung (EU) 2023/1066 der Kommission\n",
      "el: Κανονισμός (ΕΕ) 2023/1066 της Επιτροπής\n",
      "en: Commission Regulation (EU) 2023/1066\n",
      "es: Reglamento (UE) 2023/1066 de la Comisión\n",
      "et: Komisjoni määrus (EL) 2023/1066\n",
      "fi: Komission asetus (EU) 2023/1066\n",
      "fr: Règlement (UE) 2023/1066 de la Commission\n",
      "ga: Rialachán (AE) 2023/1066 ón gCoimisiún\n",
      "hr: Uredba Komisije (EU) 2023/1066\n",
      "hu: A Bizottság (EU) 2023/1066 rendelete\n",
      "it: Regolamento (UE) 2023/1066 della Commissione\n",
      "lt: \n",
      "lv: Komisijas Regula (ES) 2023/1066\n",
      "mt: Regolament tal-Kummissjoni (UE) 2023/1066 \n",
      "nl: Verordening (EU) 2023/1066 van de Commissie\n",
      "pl: Rozporządzenie Komisji (UE) 2023/1066\n",
      "pt: Regulamento (UE) 2023/1066 da Comissão\n",
      "ro: Regulamentul (UE) 2023/1066 al Comisiei\n",
      "sk: Nariadenie Komisie (EÚ) 2023/1066\n",
      "sl: Uredba Komisije (EU) 2023/1066\n",
      "sv: Kommissionens förordning (EU) 2023/1066\n"
     ]
    }
   ],
   "source": [
    "# http://data.europa.eu/eli/reg/2023/1066/oj\n",
    "\n",
    "test_dict3 = {\n",
    "    \"bg\": \"Регламент (ЕС) 2023/1066 на Комисията от 1 юни 2023 година относно прилагането на член 101, параграф 3 от Договора за функционирането на Европейския съюз към определени категории споразумения за научноизследователска и развойна дейност (текст от значение за ЕИП)\",\n",
    "    \"cs\": \"Nařízení Komise (EU) 2023/1066 ze dne 1. června 2023 o použití článku 101 odst. 3 Smlouvy o fungování Evropské unie na určité kategorie dohod o výzkumu a vývoji (Text s významem pro EHP)\",\n",
    "    \"da\": \"Kommissionens forordning (EU) 2023/1066 af 1. juni 2023 om anvendelse af artikel 101, stk. 3, i traktaten om Den Europæiske Unions funktionsmåde på visse kategorier af forsknings- og udviklingsaftaler (EØS-relevant tekst)\",\n",
    "    \"de\": \"Verordnung (EU) 2023/1066 der Kommission vom 1. Juni 2023 zur Anwendung von Artikel 101 Absatz 3 des Vertrags über die Arbeitsweise der Europäischen Union auf bestimmte Kategorien von Forschungs- und Entwicklungsvereinbarungen (Text von Bedeutung für den EWR)\",\n",
    "    \"el\": \"Κανονισμός (ΕΕ) 2023/1066 της Επιτροπής, της 1ης Ιουνίου 2023, για την εφαρμογή του άρθρου 101 παράγραφος 3 της Συνθήκης για τη λειτουργία της Ευρωπαϊκής Ένωσης σε ορισμένες κατηγορίες συμφωνιών έρευνας και ανάπτυξης (Κείμενο που παρουσιάζει ενδιαφέρον για τον ΕΟΧ)\",\n",
    "    \"en\": \"Commission Regulation (EU) 2023/1066 of 1 June 2023 on the application of Article 101(3) of the Treaty on the Functioning of the European Union to certain categories of research and development agreements (Text with EEA relevance)\",\n",
    "    \"es\": \"Reglamento (UE) 2023/1066 de la Comisión de 1 de junio de 2023 relativo a la aplicación del artículo 101, apartado 3, del Tratado de Funcionamiento de la Unión Europea a determinadas categorías de acuerdos de investigación y desarrollo (Texto pertinente a efectos del EEE)\",\n",
    "    \"et\": \"Komisjoni määrus (EL) 2023/1066, 1. juuni 2023, Euroopa Liidu toimimise lepingu artikli 101 lõike 3 kohaldamise kohta teatavate teadus- ja arendustegevuse lepingute kategooriate suhtes (EMPs kohaldatav tekst)\",\n",
    "    \"fi\": \"Komission asetus (EU) 2023/1066, annettu 1 päivänä kesäkuuta 2023, Euroopan unionin toiminnasta tehdyn sopimuksen 101 artiklan 3 kohdan soveltamisesta tiettyihin tutkimus- ja kehityssopimusten luokkiin (ETA:n kannalta merkityksellinen teksti)\",\n",
    "    \"fr\": \"Règlement (UE) 2023/1066 de la Commission du 1er juin 2023 concernant l'application de l'article 101, paragraphe 3, du traité sur le fonctionnement de l'Union européenne à certaines catégories d'accords de recherche et de développement (Texte présentant de l'intérêt pour l'EEE)\",\n",
    "    \"ga\": \"Rialachán (AE) 2023/1066 ón gCoimisiún an 1 Meitheamh 2023 maidir le cur i bhfeidhm Airteagal 101(3) den Chonradh ar Fheidhmiú an Aontais Eorpaigh ar chatagóirí áirithe comhaontuithe taighde agus forbartha (Téacs atá ábhartha maidir leis an LEE)\",\n",
    "    \"hr\": \"Uredba Komisije (EU) 2023/1066 оd 1. lipnja 2023. o primjeni članka 101. stavka 3. Ugovora o funkcioniranju Europske unije na određene kategorije sporazuma o istraživanju i razvoju (Tekst značajan za EGP)\",\n",
    "    \"hu\": \"A Bizottság (EU) 2023/1066 rendelete (2023. június 1.) az Európai Unió működéséről szóló szerződés 101. cikke (3) bekezdésének alkalmazásáról a kutatási és fejlesztési megállapodások bizonyos kategóriáira (EGT-vonatkozású szöveg)\",\n",
    "    \"it\": \"Regolamento (UE) 2023/1066 della Commissione del 1º giugno 2023 relativo all'applicazione dell'articolo 101, paragrafo 3, del trattato sul funzionamento dell'Unione europea a determinate categorie di accordi di ricerca e sviluppo (Testo rilevante ai fini del SEE)\",\n",
    "    \"lt\": \"2023 m. birželio 1 d. Komisijos reglamentas (ES) 2023/1066 dėl Sutarties dėl Europos Sąjungos veikimo 101 straipsnio 3 dalies taikymo tam tikroms mokslinių tyrimų ir technologinės plėtros sutarčių kategorijoms (Tekstas svarbus EEE)\",\n",
    "    \"lv\": \"Komisijas Regula (ES) 2023/1066 (2023. gada 1. jūnijs), ar ko piemēro Līguma par Eiropas Savienības darbību 101. panta 3. punktu attiecībā uz noteiktām pētniecības un izstrādes nolīgumu kategorijām (Dokuments attiecas uz EEZ)\",\n",
    "    \"mt\": \"Regolament tal-Kummissjoni (UE) 2023/1066 tal-1 ta' Ġunju 2023 dwar l-applikazzjoni tal-Artikolu 101(3) tat-Trattat dwar il-Funzjonament tal-Unjoni Ewropea għal ċerti kategoriji ta' ftehimiet ta' riċerka u żvilupp (Test b'rilevanza għaż-ŻEE)\",\n",
    "    \"nl\": \"Verordening (EU) 2023/1066 van de Commissie van 1 juni 2023 betreffende de toepassing van artikel 101, lid 3, van het Verdrag betreffende de werking van de Europese Unie op bepaalde categorieën van onderzoeks- en ontwikkelingsovereenkomsten (Tekst met EER-relevantie)\",\n",
    "    \"pl\": \"Rozporządzenie Komisji (UE) 2023/1066 z dnia 1 czerwca 2023 r. w sprawie stosowania art. 101 ust. 3 Traktatu o funkcjonowaniu Unii Europejskiej do niektórych kategorii porozumień w dziedzinie badań i rozwoju (Tekst mający znaczenie dla EOG)\",\n",
    "    \"pt\": \"Regulamento (UE) 2023/1066 da Comissão de 1 de junho de 2023 relativo à aplicação do artigo 101.º, n.º 3, do Tratado sobre o Funcionamento da União Europeia a determinadas categorias de acordos de investigação e desenvolvimento (Texto relevante para o EEE)\",\n",
    "    \"ro\": \"Regulamentul (UE) 2023/1066 al Comisiei din 1 iunie 2023 privind aplicarea articolului 101 alineatul (3) din Tratatul privind funcționarea Uniunii Europene anumitor categorii de acorduri de cercetare și dezvoltare (Text cu relevanță pentru SEE)\",\n",
    "    \"sk\": \"Nariadenie Komisie (EÚ) 2023/1066 z 1. júna 2023 o uplatňovaní článku 101 ods. 3 Zmluvy o fungovaní Európskej únie na určité kategórie dohôd o výskume a vývoji (Text s významom pre EHP)\",\n",
    "    \"sl\": \"Uredba Komisije (EU) 2023/1066 z dne 1. junija 2023 o uporabi člena 101(3) Pogodbe o delovanju Evropske unije za določene kategorije sporazumov o raziskavah in razvoju (Besedilo velja za EGP)\",\n",
    "    \"sv\": \"Kommissionens förordning (EU) 2023/1066 av den 1 juni 2023 om tillämpningen av artikel 101.3 i fördraget om Europeiska unionens funktionssätt på vissa kategorier av forsknings- och utvecklingsavtal (Text av betydelse för EES)\"\n",
    "}\n",
    "\n",
    "for lang, title in test_dict3.items():\n",
    "    print(f\"{lang}: {shorten(lang, title)}\")"
   ]
  },
  {
   "cell_type": "markdown",
   "id": "33f9e22b",
   "metadata": {},
   "source": [
    "#### Test case 4 (Commission Implementing Regulation)"
   ]
  },
  {
   "cell_type": "code",
   "execution_count": 571,
   "id": "b54d7b32",
   "metadata": {},
   "outputs": [
    {
     "name": "stdout",
     "output_type": "stream",
     "text": [
      "bg: Делегиран регламент (ЕС) 2023/2772 на Комисията\n",
      "cs: Nařízení Komise v přenesené pravomoci (EU) 2023/2772\n",
      "da: Kommissionens delegerede forordning (EU) 2023/2772\n",
      "de: Delegierte Verordnung (EU) 2023/2772 der Kommission\n",
      "el: Κατ' εξουσιοδότηση κανονισμός (ΕΕ) 2023/2772 της Επιτροπής\n",
      "en: Commission Delegated Regulation (EU) 2023/2772\n",
      "es: Reglamento Delegado (UE) 2023/2772 de la Comisión\n",
      "et: Komisjoni delegeeritud määrus (EL) 2023/2772\n",
      "fi: Komission delegoitu asetus (EU) 2023/2772\n",
      "fr: Règlement délégué (UE) 2023/2772 de la Commission\n",
      "ga: Rialachán Tarmligthe (AE) 2023/2772 ón gCoimisiún\n",
      "hr: Delegirana uredba Komisije (EU) 2023/2772\n",
      "hu: A Bizottság (EU) 2023/2772 felhatalmazáson alapuló rendelete\n",
      "it: Regolamento delegato (UE) 2023/2772 della Commissione\n",
      "lt: \n",
      "lv: Komisijas Deleģētā regula (ES) 2023/2772\n",
      "mt: Regolament delegat tal-Kummissjoni (UE) 2023/2772 \n",
      "nl: Gedelegeerde verordening (EU) 2023/2772 van de Commissie\n",
      "pl: Rozporządzenie delegowane Komisji (UE) 2023/2772\n",
      "pt: Regulamento Delegado (UE) 2023/2772 da Comissão\n",
      "ro: Regulamentul delegat (UE) 2023/2772 al Comisiei\n",
      "sk: Delegované nariadenie Komisie (EÚ) 2023/2772\n",
      "sl: Delegirana uredba Komisije (EU) 2023/2772\n",
      "sv: Kommissionens delegerade förordning (EU) 2023/2772\n"
     ]
    }
   ],
   "source": [
    "test_dict4 = {\n",
    "    \"bg\": \"Делегиран регламент (ЕС) 2023/2772 на Комисията от 31 юли 2023 година за допълване на Директива 2013/34/ЕС на Европейския парламент и на Съвета по отношение на стандартите за докладване за устойчивост (текст от значение за ЕИП)\",\n",
    "    \"cs\": \"Nařízení Komise v přenesené pravomoci (EU) 2023/2772 ze dne 31. července 2023, kterým se doplňuje směrnice 2013/34/EU Evropského parlamentu a Rady, pokud jde o standardy pro vykazování udržitelnosti (Text s významem pro EHP)\",\n",
    "    \"da\": \"Kommissionens delegerede forordning (EU) 2023/2772 af 31. juli 2023 om supplering af Europa-Parlamentets og Rådets direktiv 2013/34/EU for så vidt angår standarder for bæredygtighedsrapportering (EØS-relevant tekst)\",\n",
    "    \"de\": \"Delegierte Verordnung (EU) 2023/2772 der Kommission vom 31. Juli 2023 zur Ergänzung der Richtlinie 2013/34/EU des Europäischen Parlaments und des Rates in Bezug auf Standards für die Nachhaltigkeitsberichterstattung (Text von Bedeutung für den EWR)\",\n",
    "    \"el\": \"Κατ' εξουσιοδότηση κανονισμός (ΕΕ) 2023/2772 της Επιτροπής, της 31ης Ιουλίου 2023, για τη συμπλήρωση της οδηγίας 2013/34/ΕΕ του Ευρωπαϊκού Κοινοβουλίου και του Συμβουλίου όσον αφορά τα πρότυπα υποβολής εκθέσεων βιωσιμότητας (Κείμενο που παρουσιάζει ενδιαφέρον για τον ΕΟΧ)\",\n",
    "    \"en\": \"Commission Delegated Regulation (EU) 2023/2772 of 31 July 2023 supplementing Directive 2013/34/EU of the European Parliament and of the Council as regards sustainability reporting standards (Text with EEA relevance)\",\n",
    "    \"es\": \"Reglamento Delegado (UE) 2023/2772 de la Comisión de 31 de julio de 2023 por el que se complementa la Directiva 2013/34/UE del Parlamento Europeo y del Consejo en lo que respecta a las normas de presentación de informes de sostenibilidad (Texto pertinente a efectos del EEE)\",\n",
    "    \"et\": \"Komisjoni delegeeritud määrus (EL) 2023/2772, 31. juuli 2023, millega täiendatakse Euroopa Parlamendi ja nõukogu direktiivi 2013/34/EL seoses jätkusuutlikkuse aruandluse standarditega (EMPs kohaldatav tekst)\",\n",
    "    \"fi\": \"Komission delegoitu asetus (EU) 2023/2772, annettu 31 päivänä heinäkuuta 2023, Euroopan parlamentin ja neuvoston direktiivin 2013/34/EU täydentämisestä kestävyyden raportointistandardien osalta (ETA:n kannalta merkityksellinen teksti)\",\n",
    "    \"fr\": \"Règlement délégué (UE) 2023/2772 de la Commission du 31 juillet 2023 complétant la directive 2013/34/UE du Parlement européen et du Conseil en ce qui concerne les normes de rapport sur la durabilité (Texte présentant de l'intérêt pour l'EEE)\",\n",
    "    \"ga\": \"Rialachán Tarmligthe (AE) 2023/2772 ón gCoimisiún an 31 Iúil 2023 lena bhforlíontar Treoir 2013/34/AE ó Pharlaimint na hEorpa agus ón gComhairle a mhéid a bhaineann le caighdeáin tuairiscithe inbhuanaitheachta\",\n",
    "    \"hr\": \"Delegirana uredba Komisije (EU) 2023/2772 od 31. srpnja 2023. o dopuni Direktive 2013/34/EU Europskog parlamenta i Vijeća u pogledu standarda za izvješćivanje o održivosti (Tekst značajan za EGP)\",\n",
    "    \"hu\": \"A Bizottság (EU) 2023/2772 felhatalmazáson alapuló rendelete (2023. július 31.) az Európai Parlament és a Tanács 2013/34/EU irányelvének kiegészítéséről a fenntarthatósági jelentéstételi standardok tekintetében (EGT-vonatkozású szöveg)\",\n",
    "    \"it\": \"Regolamento delegato (UE) 2023/2772 della Commissione del 31 luglio 2023 che integra la direttiva 2013/34/UE del Parlamento europeo e del Consiglio per quanto riguarda i principi di rendicontazione di sostenibilità (Testo rilevante ai fini del SEE)\",\n",
    "    \"lt\": \"2023 m. liepos 31 d. Komisijos deleguotasis reglamentas (ES) 2023/2772, kuriuo papildoma Europos Parlamento ir Tarybos direktyva 2013/34/ES dėl tvarumo ataskaitų teikimo standartų (Tekstas svarbus EEE)\",\n",
    "    \"lv\": \"Komisijas Deleģētā regula (ES) 2023/2772 (2023. gada 31. jūlijs), ar ko papildina Eiropas Parlamenta un Padomes Direktīvu 2013/34/ES attiecībā uz ilgtspējas pārskatu standartiem (Dokuments attiecas uz EEZ)\",\n",
    "    \"mt\": \"Regolament delegat tal-Kummissjoni (UE) 2023/2772 tat-31 ta' Lulju 2023 li jissupplimenta d-Direttiva 2013/34/UE tal-Parlament Ewropew u tal-Kunsill fir-rigward tal-istandards ta' rappurtar dwar is-sostenibbiltà (Test b'rilevanza għaż-ŻEE)\",\n",
    "    \"nl\": \"Gedelegeerde verordening (EU) 2023/2772 van de Commissie van 31 juli 2023 tot aanvulling van Richtlijn 2013/34/EU van het Europees Parlement en de Raad wat betreft duurzaamheidsverslaggevingsnormen (Tekst met EER-relevantie)\",\n",
    "    \"pl\": \"Rozporządzenie delegowane Komisji (UE) 2023/2772 z dnia 31 lipca 2023 r. uzupełniające dyrektywę 2013/34/UE Parlamentu Europejskiego i Rady w odniesieniu do standardów sprawozdawczości w zakresie zrównoważonego rozwoju (Tekst mający znaczenie dla EOG)\",\n",
    "    \"pt\": \"Regulamento Delegado (UE) 2023/2772 da Comissão de 31 de julho de 2023 que complementa a Diretiva 2013/34/UE do Parlamento Europeu e do Conselho no que respeita às normas de relato de sustentabilidade (Texto relevante para o EEE)\",\n",
    "    \"ro\": \"Regulamentul delegat (UE) 2023/2772 al Comisiei din 31 iulie 2023 de completare a Directivei 2013/34/UE a Parlamentului European și a Consiliului în ceea ce privește standardele de raportare privind durabilitatea (Text cu relevanță pentru SEE)\",\n",
    "    \"sk\": \"Delegované nariadenie Komisie (EÚ) 2023/2772 z 31. júla 2023, ktorým sa dopĺňa smernica 2013/34/EÚ Európskeho parlamentu a Rady, pokiaľ ide o normy pre vykazovanie udržateľnosti (Text s významom pre EHP)\",\n",
    "    \"sl\": \"Delegirana uredba Komisije (EU) 2023/2772 z dne 31. julija 2023 o dopolnitvi Direktive 2013/34/EU Evropskega parlamenta in Sveta glede standardov za poročanje o trajnostnosti (Besedilo velja za EGP)\",\n",
    "    \"sv\": \"Kommissionens delegerade förordning (EU) 2023/2772 av den 31 juli 2023 om komplettering av Europaparlamentets och rådets direktiv 2013/34/EU vad gäller standarder för hållbarhetsrapportering (Text av betydelse för EES)\"\n",
    "}\n",
    "\n",
    "for lang, title in test_dict4.items():\n",
    "    print(f\"{lang}: {shorten(lang, title)}\")"
   ]
  },
  {
   "cell_type": "markdown",
   "id": "bd8150f1",
   "metadata": {},
   "source": [
    "### Test case 5 (Commission Implementing Regulation)"
   ]
  },
  {
   "cell_type": "code",
   "execution_count": 572,
   "id": "5a69e8fa",
   "metadata": {},
   "outputs": [
    {
     "name": "stdout",
     "output_type": "stream",
     "text": [
      "bg: Регламент за изпълнение (ЕС) 2022/2453 на Комисията\n",
      "cs: Prováděcí nařízení Komise (EU) 2022/2453\n",
      "da: Kommissionens gennemførelsesforordning (EU) 2022/2453\n",
      "de: Durchführungsverordnung (EU) 2022/2453 der Kommission\n",
      "el: Εκτελεστικός κανονισμός (ΕΕ) 2022/2453 της Επιτροπής\n",
      "en: Commission Implementing Regulation (EU) 2022/2453\n",
      "es: Reglamento de Ejecución (UE) 2022/2453 de la Comisión\n",
      "et: Komisjoni rakendusmäärus (EL) 2022/2453\n",
      "fi: Komission täytäntöönpanoasetus (EU) 2022/2453\n",
      "fr: Règlement d'exécution (UE) 2022/2453 de la Commission\n",
      "ga: Rialachán Cur Chun Feidhme (AE) 2022/2453 ón gCoimisiún\n",
      "hr: Provedbena uredba Komisije (EU) 2022/2453\n",
      "hu: A Bizottság (EU) 2022/2453 végrehajtási rendelete\n",
      "it: Regolamento di esecuzione (UE) 2022/2453 della Commissione\n",
      "lt: \n",
      "lv: Komisijas Īstenošanas regula (ES) 2022/2453\n",
      "mt: Regolament ta' Implimentazzjoni tal-Kummissjoni (UE) 2022/2453 \n",
      "nl: Uitvoeringsverordening (EU) 2022/2453 van de Commissie\n",
      "pl: Rozporządzenie wykonawcze Komisji (UE) 2022/2453\n",
      "pt: Regulamento de Execução (UE) 2022/2453 da Comissão\n",
      "ro: Regulamentul de punere în aplicare (UE) 2022/2453 al Comisiei\n",
      "sk: Vykonávacie nariadenie Komisie (EÚ) 2022/2453\n",
      "sl: Izvedbena uredba Komisije (EU) 2022/2453\n",
      "sv: Kommissionens genomförandeförordning (EU) 2022/2453\n"
     ]
    }
   ],
   "source": [
    "test_dict5 = {\n",
    "    \"bg\": \"Регламент за изпълнение (ЕС) 2022/2453 на Комисията от 30 ноември 2022 година за изменение на техническите стандарти за изпълнение, установени в Регламент за изпълнение (ЕС) 2021/637 по отношение на оповестяването на рисковете, свързани с околната среда, социалните въпроси и управлението (текст от значение за ЕИП)\",\n",
    "    \"cs\": \"Prováděcí nařízení Komise (EU) 2022/2453 ze dne 30. listopadu 2022, kterým se mění prováděcí technické normy stanovené prováděcím nařízením (EU) 2021/637, pokud jde o zveřejňování rizik v oblasti životního prostředí, sociálních věcí a správy a řízení (Text s významem pro EHP)\",\n",
    "    \"da\": \"Kommissionens gennemførelsesforordning (EU) 2022/2453 af 30. november 2022 om ændring af de gennemførelsestekniske standarder, der er fastsat i gennemførelsesforordning (EU) 2021/637, for så vidt angår offentliggørelse af miljømæssige, sociale og ledelsesmæssige risici (EØS-relevant tekst)\",\n",
    "    \"de\": \"Durchführungsverordnung (EU) 2022/2453 der Kommission vom 30. November 2022 zur Änderung der in der Durchführungsverordnung (EU) 2021/637 festgelegten technischen Durchführungsstandards hinsichtlich der Offenlegung von Umwelt-, Sozial- und Governance-Risiken (Text von Bedeutung für den EWR)\",\n",
    "    \"el\": \"Εκτελεστικός κανονισμός (ΕΕ) 2022/2453 της Επιτροπής, της 30ης Νοεμβρίου 2022, για την τροποποίηση των εκτελεστικών τεχνικών προτύπων που θεσπίζονται με τον εκτελεστικό κανονισμό (ΕΕ) 2021/637 όσον αφορά τη γνωστοποίηση των κινδύνων που σχετίζονται με το περιβάλλον, την κοινωνία και τη διακυβέρνηση (Κείμενο που παρουσιάζει ενδιαφέρον για τον ΕΟΧ)\",\n",
    "    \"en\": \"Commission Implementing Regulation (EU) 2022/2453 of 30 November 2022 amending the implementing technical standards laid down in Implementing Regulation (EU) 2021/637 as regards the disclosure of environmental, social and governance risks (Text with EEA relevance)\",\n",
    "    \"es\": \"Reglamento de Ejecución (UE) 2022/2453 de la Comisión de 30 de noviembre de 2022 por el que se modifican las normas técnicas de ejecución establecidas en el Reglamento de Ejecución (UE) 2021/637 en lo que respecta a la divulgación de riesgos ambientales, sociales y de gobernanza (Texto pertinente a efectos del EEE)\",\n",
    "    \"et\": \"Komisjoni rakendusmäärus (EL) 2022/2453, 30. november 2022, millega muudetakse rakendusmääruses (EL) 2021/637 sätestatud rakendustehnilisi standardeid seoses keskkonna-, sotsiaal- ja valitsemisriskide avalikustamisega (EMPs kohaldatav tekst)\",\n",
    "    \"fi\": \"Komission täytäntöönpanoasetus (EU) 2022/2453, annettu 30 päivänä marraskuuta 2022, täytäntöönpanoasetuksessa (EU) 2021/637 vahvistettujen täytäntöönpanoteknisten standardien muuttamisesta ympäristöön, yhteiskuntaan ja hallintoon liittyvien riskien julkistamisen osalta (ETA:n kannalta merkityksellinen teksti)\",\n",
    "    \"fr\": \"Règlement d'exécution (UE) 2022/2453 de la Commission du 30 novembre 2022 modifiant les normes techniques d'exécution établies dans le règlement d'exécution (UE) 2021/637 en ce qui concerne la divulgation des risques environnementaux, sociaux et de gouvernance (Texte présentant de l'intérêt pour l'EEE)\",\n",
    "    \"ga\": \"Rialachán Cur Chun Feidhme (AE) 2022/2453 ón gCoimisiún an 30 Samhain 2022 lena leasaítear na caighdeáin theicniúla cur chun feidhme a leagtar síos i Rialachán Cur Chun Feidhme (AE) 2021/637 maidir le nochtadh rioscaí comhshaoil, sóisialta agus rialachais (Téacs atá ábhartha maidir leis an LEE)\",\n",
    "    \"hr\": \"Provedbena uredba Komisije (EU) 2022/2453 od 30. studenoga 2022. o izmjeni provedbenih tehničkih standarda utvrđenih Provedbenom uredbom (EU) 2021/637 u pogledu objavljivanja rizika povezanih s okolišem, društvom i upravljanjem (Tekst značajan za EGP)\",\n",
    "    \"hu\": \"A Bizottság (EU) 2022/2453 végrehajtási rendelete (2022. november 30.) a 2021/637 végrehajtási rendeletben meghatározott végrehajtási műszaki standardok módosításáról a környezeti, társadalmi és irányítási kockázatok közzétételére vonatkozóan (EGT-vonatkozású szöveg)\",\n",
    "    \"it\": \"Regolamento di esecuzione (UE) 2022/2453 della Commissione del 30 novembre 2022 che modifica le norme tecniche di attuazione stabilite dal regolamento di esecuzione (UE) 2021/637 per quanto riguarda l’informativa sui rischi ambientali, sociali e di governance (Testo rilevante ai fini del SEE)\",\n",
    "    \"lt\": \"2022 m. lapkričio 30 d. Komisijos įgyvendinimo reglamentas (ES) 2022/2453, kuriuo iš dalies keičiami įgyvendinimo reglamente (ES) 2021/637 nustatyti įgyvendinimo techniniai standartai, susiję su aplinkos, socialinės ir valdymo rizikos atskleidimu (Tekstas svarbus EEE)\",\n",
    "    \"lv\": \"Komisijas Īstenošanas regula (ES) 2022/2453 (2022. gada 30. novembris), ar ko groza īstenošanas tehniskos standartus, kas noteikti Īstenošanas regulā (ES) 2021/637 attiecībā uz vides, sociālo un pārvaldības risku atklāšanu (Dokuments attiecas uz EEZ)\",\n",
    "    \"mt\": \"Regolament ta' Implimentazzjoni tal-Kummissjoni (UE) 2022/2453 tat-30 ta' Novembru 2022 li jemenda l-istandards tekniċi ta' implimentazzjoni stabbiliti fir-Regolament ta' Implimentazzjoni (UE) 2021/637 fir-rigward tal-iżvelar tar-riskji ambjentali, soċjali u ta' governanza (Test b'rilevanza għaż-ŻEE)\",\n",
    "    \"nl\": \"Uitvoeringsverordening (EU) 2022/2453 van de Commissie van 30 november 2022 tot wijziging van de in Uitvoeringsverordening (EU) 2021/637 vastgestelde technische uitvoeringsnormen met betrekking tot de openbaarmaking van milieu-, sociale en governance-risico's (Tekst met EER-relevantie)\",\n",
    "    \"pl\": \"Rozporządzenie wykonawcze Komisji (UE) 2022/2453 z dnia 30 listopada 2022 r. zmieniające wykonawcze standardy techniczne określone w rozporządzeniu wykonawczym (UE) 2021/637 w odniesieniu do ujawniania ryzyk związanych ze środowiskiem, sprawami społecznymi i ładem korporacyjnym (Tekst mający znaczenie dla EOG)\",\n",
    "    \"pt\": \"Regulamento de Execução (UE) 2022/2453 da Comissão de 30 de novembro de 2022 que altera as normas técnicas de execução estabelecidas no Regulamento de Execução (UE) 2021/637 no que diz respeito à divulgação de riscos ambientais, sociais e de governação (Texto relevante para o EEE)\",\n",
    "    \"ro\": \"Regulamentul de punere în aplicare (UE) 2022/2453 al Comisiei din 30 noiembrie 2022 de modificare a standardelor tehnice de punere în aplicare prevăzute în Regulamentul de punere în aplicare (UE) 2021/637 în ceea ce privește publicarea informațiilor privind riscurile de mediu, sociale și de guvernanță (Text cu relevanță pentru SEE)\",\n",
    "    \"sk\": \"Vykonávacie nariadenie Komisie (EÚ) 2022/2453 z 30. novembra 2022, ktorým sa menia vykonávacie technické predpisy stanovené vo vykonávacom nariadení (EÚ) 2021/637, pokiaľ ide o zverejňovanie informácií o rizikách environmentálneho, sociálneho a správneho dosahu (Text s významom pre EHP)\",\n",
    "    \"sl\": \"Izvedbena uredba Komisije (EU) 2022/2453 z dne 30. novembra 2022 o spremembi izvedbenih tehničnih standardov iz Izvedbene uredbe (EU) 2021/637 glede razkritja okoljskih, socialnih in upravljavskih tveganj (Besedilo velja za EGP)\",\n",
    "    \"sv\": \"Kommissionens genomförandeförordning (EU) 2022/2453 av den 30 november 2022 om ändring av de tekniska genomförandestandarder som fastställs i genomförandeförordning (EU) 2021/637 vad gäller offentliggörande av miljö-, samhällsansvars- och bolagsstyrningsrisker (Text av betydelse för EES)\",\n",
    "}\n",
    "\n",
    "for lang, title in test_dict5.items():\n",
    "    print(f\"{lang}: {shorten(lang, title)}\")"
   ]
  },
  {
   "cell_type": "markdown",
   "id": "ef8baf5d",
   "metadata": {},
   "source": [
    "### Test case 6 (Council Implementing Decision)"
   ]
  },
  {
   "cell_type": "code",
   "execution_count": 573,
   "id": "1847a597",
   "metadata": {},
   "outputs": [
    {
     "name": "stdout",
     "output_type": "stream",
     "text": [
      "bg: Решение за изпълнение (ЕС) 2022/382 на Съвета\n",
      "cs: Prováděcí rozhodnutí Rady (EU) 2022/382\n",
      "da: Rådets gennemførelsesafgørelse (EU) 2022/382\n",
      "de: Durchführungsbeschluss (EU) 2022/382 des Rates\n",
      "el: None\n",
      "en: Council Implementing Decision (EU) 2022/382\n",
      "es: Decisión de Ejecución (UE) 2022/382 del Consejo\n",
      "et: Nõukogu rakendusotsus (EL) 2022/382\n",
      "fi: Neuvoston täytäntöönpanopäätös (EU) 2022/382\n",
      "fr: Décision d'exécution (UE) 2022/382 du Conseil\n",
      "ga: Cinneadh Cur Chun Feidhme (AE) 2022/382\n",
      "hr: Provedbena odluka Vijeća (EU) 2022/382\n",
      "hu: A Tanács (EU) 2022/382 végrehajtási határozata\n",
      "it: Decisione di esecuzione (UE) 2022/382 del Consiglio\n",
      "lt: \n",
      "lv: Padomes Īstenošanas lēmums (ES) 2022/382\n",
      "mt: Deċiżjoni ta' Implimentazzjoni tal-Kunsill (UE) 2022/382 \n",
      "nl: Uitvoeringsbesluit (EU) 2022/382 van de Raad\n",
      "pl: Decyzja wykonawcza Rady (UE) 2022/382\n",
      "pt: Decisão de Execução (UE) 2022/382 do Conselho\n",
      "ro: Decizia de punere în aplicare (UE) 2022/382 a Consiliului\n",
      "sk: Vykonávacie rozhodnutie Rady (EÚ) 2022/382\n",
      "sl: Izvedbeni sklep Sveta (EU) 2022/382\n",
      "sv: Rådets genomförandebeslut (EU) 2022/382\n"
     ]
    }
   ],
   "source": [
    "test_dict6 = {\n",
    "    \"bg\": \"Решение за изпълнение (ЕС) 2022/382 на Съвета от 4 март 2022 година за установяване на наличието на масов приток на разселени лица от Украйна по смисъла на член 5 от Директива 2001/55/ЕО и за въвеждане на временна закрила (текст от значение за ЕИП)\",\n",
    "    \"cs\": \"Prováděcí rozhodnutí Rady (EU) 2022/382 ze dne 4. března 2022, kterým se stanoví existence masového přílivu vysídlených osob z Ukrajiny ve smyslu článku 5 směrnice 2001/55/ES a kterým se zavádí dočasná ochrana (Text s významem pro EHP)\",\n",
    "    \"da\": \"Rådets gennemførelsesafgørelse (EU) 2022/382 af 4. marts 2022 om konstatering af, at der foreligger en massetilstrømning af fordrevne personer fra Ukraine som omhandlet i artikel 5 i direktiv 2001/55/EF, og om indførelse af midlertidig beskyttelse (EØS-relevant tekst)\",\n",
    "    \"de\": \"Durchführungsbeschluss (EU) 2022/382 des Rates vom 4. März 2022 zur Feststellung des Vorliegens eines Massenzustroms von Vertriebenen aus der Ukraine im Sinne des Artikels 5 der Richtlinie 2001/55/EG und zur Einführung eines vorübergehenden Schutzes (Text von Bedeutung für den EWR)\",\n",
    "    \"el\": \"Εκτελεστική απόφαση (ΕΕ) 2022/382 του Συμβουλίου, της 4ης Μαρτίου 2022, για τη διαπίστωση της ύπαρξης μαζικής εισροής εκτοπισθέντων ατόμων από την Ουκρανία κατά την έννοια του άρθρου 5 της οδηγίας 2001/55/ΕΚ και για την εισαγωγή προσωρινής προστασίας (Κείμενο που παρουσιάζει ενδιαφέρον για τον ΕΟΧ)\",\n",
    "    \"en\": \"Council Implementing Decision (EU) 2022/382 of 4 March 2022 establishing the existence of a mass influx of displaced persons from Ukraine within the meaning of Article 5 of Directive 2001/55/EC, and having the effect of introducing temporary protection (Text with EEA relevance)\",\n",
    "    \"es\": \"Decisión de Ejecución (UE) 2022/382 del Consejo de 4 de marzo de 2022 por la que se establece la existencia de una afluencia masiva de personas desplazadas procedentes de Ucrania en el sentido del artículo 5 de la Directiva 2001/55/CE y se introduce una protección temporal (Texto pertinente a efectos del EEE)\",\n",
    "    \"et\": \"Nõukogu rakendusotsus (EL) 2022/382, 4. märts 2022, millega kehtestatakse Ukraina päritolu ümberasustatud isikute massilise sissevoolu olemasolu direktiivi 2001/55/EÜ artikli 5 tähenduses ja kehtestatakse ajutine kaitse (EMPs kohaldatav tekst)\",\n",
    "    \"fi\": \"Neuvoston täytäntöönpanopäätös (EU) 2022/382, annettu 4 päivänä maaliskuuta 2022, Ukrainan kansalaisten joukkopaon olemassaolon toteamisesta direktiivin 2001/55/EY 5 artiklan mukaisesti ja tilapäisen suojelun käyttöönotosta (ETA:n kannalta merkityksellinen teksti)\",\n",
    "    \"fr\": \"Décision d'exécution (UE) 2022/382 du Conseil du 4 mars 2022 établissant l'existence d'un afflux massif de personnes déplacées en provenance d'Ukraine au sens de l'article 5 de la directive 2001/55/CE et ayant pour effet d'introduire une protection temporaire (Texte présentant de l'intérêt pour l'EEE)\",\n",
    "    \"ga\": \"Cinneadh Cur Chun Feidhme (AE) 2022/382 ón gComhairle an 4 Márta 2022 lena mbunaítear go bhfuil ollionradh daoine díláithrithe ón Úcráin ann de réir bhrí Airteagal 5 de Threoir 2001/55/CE agus lena mbunaítear cosaint shealadach (Téacs atá ábhartha maidir leis an LEE)\",\n",
    "    \"hr\": \"Provedbena odluka Vijeća (EU) 2022/382 od 4. ožujka 2022. o utvrđivanju postojanja masovnog priljeva raseljenih osoba iz Ukrajine u smislu članka 5. Direktive 2001/55/EZ i uvođenju privremene zaštite (Tekst značajan za EGP)\",\n",
    "    \"hu\": \"A Tanács (EU) 2022/382 végrehajtási határozata (2022. március 4.) az Ukrajnából érkező menekültek tömeges beáramlásának megállapításáról az 55/2001/EK irányelv 5. cikke értelmében, és az ideiglenes védelem bevezetéséről (EGT-vonatkozású szöveg)\",\n",
    "    \"it\": \"Decisione di esecuzione (UE) 2022/382 del Consiglio del 4 marzo 2022 che accerta l'esistenza di un afflusso massiccio di sfollati dall'Ucraina ai sensi dell'articolo 5 della direttiva 2001/55/CE e introduce una protezione temporanea (Testo rilevante ai fini del SEE)\",\n",
    "    \"lt\": \"2022 m. kovo 4 d. Tarybos įgyvendinimo sprendimas (ES) 2022/382, kuriuo nustatomas masinis iš Ukrainos perkeltų asmenų antplūdis, kaip apibrėžta Direktyvos 2001/55/EB 5 straipsnyje, ir įvedama laikinoji apsauga (Tekstas svarbus EEE)\",\n",
    "    \"lv\": \"Padomes Īstenošanas lēmums (ES) 2022/382 (2022. gada 4. marts), ar ko nosaka, ka ir notikusi masveida pārvietoto personu pieplūde no Ukrainas Direktīvas 2001/55/EK 5. panta izpratnē, un ievieš pagaidu aizsardzību (Dokuments attiecas uz EEZ)\",\n",
    "    \"mt\": \"Deċiżjoni ta' Implimentazzjoni tal-Kunsill (UE) 2022/382 tal-4 ta' Marzu 2022 li tistabbilixxi l-eżistenza ta' influss massiv ta' persuni spostati mill-Ukrajna fis-sens tal-Artikolu 5 tad-Direttiva 2001/55/KE u li għandha l-effett li tintroduċi protezzjoni temporanja (Test b'rilevanza għaż-ŻEE)\",\n",
    "    \"nl\": \"Uitvoeringsbesluit (EU) 2022/382 van de Raad van 4 maart 2022 tot vaststelling van het bestaan van een massale toestroom van ontheemden uit Oekraïne in de zin van artikel 5 van Richtlijn 2001/55/EG en tot invoering van tijdelijke bescherming (Tekst met EER-relevantie)\",\n",
    "    \"pl\": \"Decyzja wykonawcza Rady (UE) 2022/382 z dnia 4 marca 2022 r. stwierdzająca istnienie masowego napływu osób przemieszczonych z Ukrainy w rozumieniu art. 5 dyrektywy 2001/55/WE i wprowadzająca tymczasową ochronę (Tekst mający znaczenie dla EOG)\",\n",
    "    \"pt\": \"Decisão de Execução (UE) 2022/382 do Conselho de 4 de março de 2022 que estabelece a existência de um afluxo maciço de pessoas deslocadas da Ucrânia na aceção do artigo 5.º da Diretiva 2001/55/CE e introduz uma proteção temporária (Texto relevante para o EEE)\",\n",
    "    \"ro\": \"Decizia de punere în aplicare (UE) 2022/382 a Consiliului din 4 martie 2022 de stabilire a existenței unui aflux masiv de persoane strămutate din Ucraina în sensul articolului 5 din Directiva 2001/55/CE și de introducere a protecției temporare (Text cu relevanță pentru SEE)\",\n",
    "    \"sk\": \"Vykonávacie rozhodnutie Rady (EÚ) 2022/382 z 4. marca 2022, ktorým sa ustanovuje existencia masového prílevu vysídlených osôb z Ukrajiny v zmysle článku 5 smernice 2001/55/ES a ktorým sa zavádza dočasná ochrana (Text s významom pre EHP)\",\n",
    "    \"sl\": \"Izvedbeni sklep Sveta (EU) 2022/382 z dne 4. marca 2022 o ugotovitvi obstoja množičnega prihoda razseljenih oseb iz Ukrajine v smislu člena 5 Direktive 2001/55/ES in uvedbi začasne zaščite (Besedilo velja za EGP)\",\n",
    "    \"sv\": \"Rådets genomförandebeslut (EU) 2022/382 av den 4 mars 2022 om fastställande av förekomsten av en massinströmning av fördrivna personer från Ukraina i den mening som avses i artikel 5 i direktiv 2001/55/EG och om införande av tillfälligt skydd (Text av betydelse för EES)\"\n",
    "}\n",
    "\n",
    "\n",
    "for lang, title in test_dict6.items():\n",
    "    print(f\"{lang}: {shorten(lang, title)}\")"
   ]
  },
  {
   "cell_type": "code",
   "execution_count": null,
   "id": "5cfc5f84",
   "metadata": {},
   "outputs": [],
   "source": []
  }
 ],
 "metadata": {
  "kernelspec": {
   "display_name": "base",
   "language": "python",
   "name": "python3"
  },
  "language_info": {
   "codemirror_mode": {
    "name": "ipython",
    "version": 3
   },
   "file_extension": ".py",
   "mimetype": "text/x-python",
   "name": "python",
   "nbconvert_exporter": "python",
   "pygments_lexer": "ipython3",
   "version": "3.12.7"
  }
 },
 "nbformat": 4,
 "nbformat_minor": 5
}
