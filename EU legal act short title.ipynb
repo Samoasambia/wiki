{
 "cells": [
  {
   "cell_type": "markdown",
   "id": "f5b64715-bbcc-4ab6-a7fd-0b4c130572c2",
   "metadata": {},
   "source": [
    "# Regexes for short titles of EU legal acts"
   ]
  },
  {
   "cell_type": "markdown",
   "id": "0f15c268-ce3b-4c3e-a21a-73ee1d055de6",
   "metadata": {},
   "source": [
    "### Regex list"
   ]
  },
  {
   "cell_type": "code",
   "execution_count": 28,
   "id": "7ce71c7c-cd6c-422c-abc9-4304ce9ae308",
   "metadata": {},
   "outputs": [],
   "source": [
    "regex_list = {\n",
    "    \"bg\": r\"\",\n",
    "    \"cs\": r\"\",\n",
    "    \"da\": r\"\",\n",
    "    \"de\": r\"^(Verordnung|Richtlinie) \\([^)]+\\) \\d{4}/\\d+\",\n",
    "    \"el\": r\"\",\n",
    "    \"en\": r\"^(Council |Commission )?(Regulation|Directive) \\([^)]+\\) \\d{4}/\\d+\",\n",
    "    \"es\": r\"\",\n",
    "    \"et\": r\"^(Euroopa Parlamendi ja nõukogu|Nõukogu) (määrus|direktiiv) \\([^)]+\\) \\d{4}/\\d+\",\n",
    "    \"fi\": r\"^(Euroopan parlamentin ja neuvoston|Neuvoston) (Asetus|Direktiivi) \\([^)]+\\) \\d{4}/\\d+\",\n",
    "    \"fr\": r\"^(Règlement|Directive) \\([^)]+\\) \\d{4}/\\d+\",\n",
    "    \"ga\": r\"\",\n",
    "    \"hr\": r\"\",\n",
    "    \"hu\": r\"\",\n",
    "    \"it\": r\"\",\n",
    "    \"lv\": r\"\",\n",
    "    \"lt\": r\"\",\n",
    "    \"mt\": r\"\",\n",
    "    \"nl\": r\"\",\n",
    "    \"pl\": r\"\",\n",
    "    \"pt\": r\"\",\n",
    "    \"ro\": r\"\",\n",
    "    \"sk\": r\"\",\n",
    "    \"sl\": r\"\",\n",
    "    \"sv\": r\"^(Europaparlamentets och rådets|Rådets|Kommissionens) (Förordning|Direktiv) \\([^)]+\\) \\d{4}/\\d+\",\n",
    "    }"
   ]
  },
  {
   "cell_type": "markdown",
   "id": "279729be-5398-4ea9-9c5e-443798ca1b6f",
   "metadata": {},
   "source": [
    "### Function for shortening"
   ]
  },
  {
   "cell_type": "code",
   "execution_count": 25,
   "id": "01ec9109-cf79-49d4-ac1a-3349ca7bc2ff",
   "metadata": {},
   "outputs": [],
   "source": [
    "import re\n",
    "\n",
    "def shorten(lang, title):\n",
    "    \n",
    "    # get the right regex for the given language\n",
    "    regex = regex_list.get(lang)\n",
    "    # if not regex:\n",
    "        # raise ValueError(f\"Unknown language: {lang}\")\n",
    "\n",
    "    # matching with the regex\n",
    "    match = re.search(regex, title, re.IGNORECASE)\n",
    "    if match:\n",
    "        return match.group(0)"
   ]
  },
  {
   "cell_type": "markdown",
   "id": "32d6a212-bc15-46b2-9c17-f8dfba3a29e5",
   "metadata": {},
   "source": [
    "### Test case 1"
   ]
  },
  {
   "cell_type": "code",
   "execution_count": 26,
   "id": "9277a862-3270-49a4-b780-670efafbb4af",
   "metadata": {},
   "outputs": [
    {
     "name": "stdout",
     "output_type": "stream",
     "text": [
      "bg: \n",
      "cs: \n",
      "da: \n",
      "de: Verordnung (EU) 2016/679\n",
      "el: \n",
      "en: Regulation (EU) 2016/679\n",
      "es: \n",
      "et: Euroopa Parlamendi ja nõukogu määrus (EL) 2016/679\n",
      "fi: Euroopan parlamentin ja neuvoston asetus (EU) 2016/679\n",
      "fr: Règlement (UE) 2016/679\n",
      "ga: \n",
      "hr: \n",
      "hu: \n",
      "it: \n",
      "lt: \n",
      "lv: \n",
      "mt: \n",
      "nl: \n",
      "pl: \n",
      "pt: \n",
      "ro: \n",
      "sk: \n",
      "sl: \n",
      "sv: Europaparlamentets och rådets förordning (EU) 2016/679\n"
     ]
    }
   ],
   "source": [
    "# http://data.europa.eu/eli/reg/2016/679/oj \n",
    "test_dict1 = {\n",
    "    \"bg\": \"Регламент (ЕС) 2016/679 на Европейския парламент и на Съвета от 27 април 2016 година относно защитата на физическите лица във връзка с обработването на лични данни и относно свободното движение на такива данни и за отмяна на Директива 95/46/ЕО (Общ регламент относно защитата на данните) (текст от значение за ЕИП)\",\n",
    "    \"cs\": \"Nařízení (EU) 2016/679 Evropského parlamentu a Rady ze dne 27. dubna 2016 o ochraně fyzických osob v souvislosti se zpracováním osobních údajů a o volném pohybu těchto údajů a o zrušení směrnice 95/46/ES (obecné nařízení o ochraně osobních údajů) (Text s významem pro EHP)\",\n",
    "    \"da\": \"Europa-Parlamentets og Rådets forordning (EU) 2016/679 af 27. april 2016 om beskyttelse af fysiske personer i forbindelse med behandling af personoplysninger og om fri udveksling af sådanne oplysninger og om ophævelse af direktiv 95/46/EF (generel forordning om databeskyttelse) (EØS-relevant tekst)\",\n",
    "    \"de\": \"Verordnung (EU) 2016/679 des Europäischen Parlaments und des Rates vom 27. April 2016 zum Schutz natürlicher Personen bei der Verarbeitung personenbezogener Daten, zum freien Datenverkehr und zur Aufhebung der Richtlinie 95/46/EG (Datenschutz-Grundverordnung) (Text von Bedeutung für den EWR)\",\n",
    "    \"el\": \"Κανονισμός (ΕΕ) 2016/679 του Ευρωπαϊκού Κοινοβουλίου και του Συμβουλίου της 27ης Απριλίου 2016 για την προστασία των φυσικών προσώπων έναντι της επεξεργασίας δεδομένων προσωπικού χαρακτήρα και για την ελεύθερη κυκλοφορία των δεδομένων αυτών και για την κατάργηση της οδηγίας 95/46/ΕΚ (Γενικός Κανονισμός για την Προστασία Δεδομένων) (Κείμενο που παρουσιάζει ενδιαφέρον για τον ΕΟΧ)\",\n",
    "    \"en\": \"Regulation (EU) 2016/679 of the European Parliament and of the Council of 27 April 2016 on the protection of natural persons with regard to the processing of personal data and on the free movement of such data, and repealing Directive 95/46/EC (General Data Protection Regulation) (Text with EEA relevance)\",\n",
    "    \"es\": \"Reglamento (UE) 2016/679 del Parlamento Europeo y del Consejo de 27 de abril de 2016 relativo a la protección de las personas físicas en lo que respecta al tratamiento de datos personales y a la libre circulación de estos datos y por el que se deroga la Directiva 95/46/CE (Reglamento general de protección de datos) (Texto pertinente a efectos del EEE)\",\n",
    "    \"et\": \"Euroopa Parlamendi ja nõukogu määrus (EL) 2016/679, 27. aprill 2016, füüsiliste isikute kaitse kohta isikuandmete töötlemisel ja selliste andmete vaba liikumise kohta ning millega tunnistatakse kehtetuks direktiiv 95/46/EÜ (isikuandmete kaitse üldmäärus) (EMPs kohaldatav tekst)\",\n",
    "    \"fi\": \"Euroopan parlamentin ja neuvoston asetus (EU) 2016/679, annettu 27 päivänä huhtikuuta 2016, luonnollisten henkilöiden suojelusta henkilötietojen käsittelyssä sekä näiden tietojen vapaasta liikkuvuudesta ja direktiivin 95/46/EY kumoamisesta (yleinen tietosuoja-asetus) (ETA:n kannalta merkityksellinen teksti)\",\n",
    "    \"fr\": \"Règlement (UE) 2016/679 du Parlement européen et du Conseil du 27 avril 2016 relatif à la protection des personnes physiques à l'égard du traitement des données à caractère personnel et à la libre circulation de ces données et abrogeant la directive 95/46/CE (règlement général sur la protection des données) (Texte présentant de l'intérêt pour l'EEE)\",\n",
    "    \"ga\": \"Rialachán (AE) 2016/679 ó Pharlaimint na hEorpa agus ón gComhairle an 27 Aibreán 2016 maidir le cosaint daoine nádúrtha i ndáil le próiseáil sonraí pearsanta agus maidir le saorghluaiseacht na sonraí sin, agus lena n-aisghairtear Treoir 95/46/CE (Rialachán Ginearálta maidir le Cosaint Sonraí) (Téacs atá ábhartha maidir leis an LEE)\",\n",
    "    \"hr\": \"Uredba (EU) 2016/679 Europskog parlamenta i Vijeća od 27. travnja 2016. o zaštiti pojedinaca u vezi s obradom osobnih podataka i o slobodnom kretanju takvih podataka te o stavljanju izvan snage Direktive 95/46/EZ (Opća uredba o zaštiti podataka) (Tekst značajan za EGP)\",\n",
    "    \"hu\": \"Az Európai Parlament és a Tanács (EU) 2016/679 rendelete (2016. április 27.) a természetes személyeknek a személyes adatok kezelése tekintetében történő védelméről és az ilyen adatok szabad áramlásáról, valamint a 95/46/EK irányelv hatályon kívül helyezéséről (általános adatvédelmi rendelet) (EGT-vonatkozású szöveg)\",\n",
    "    \"it\": \"Regolamento (UE) 2016/679 del Parlamento europeo e del Consiglio del 27 aprile 2016 relativo alla protezione delle persone fisiche con riguardo al trattamento dei dati personali, nonché alla libera circolazione di tali dati e che abroga la direttiva 95/46/CE (regolamento generale sulla protezione dei dati) (Testo rilevante ai fini del SEE)\",\n",
    "    \"lt\": \"2016 m. balandžio 27 d. Europos Parlamento ir Tarybos reglamentas (ES) 2016/679 dėl fizinių asmenų apsaugos tvarkant asmens duomenis ir dėl laisvo tokių duomenų judėjimo ir panaikinantis Direktyvą 95/46/EB (Bendrasis duomenų apsaugos reglamentas) (Tekstas svarbus EEE)\",\n",
    "    \"lv\": \"Eiropas Parlamenta un Padomes Regula (ES) 2016/679 (2016. gada 27. aprīlis) par fizisku personu aizsardzību attiecībā uz personas datu apstrādi un šādu datu brīvu apriti un ar ko atceļ Direktīvu 95/46/EK (Vispārīgā datu aizsardzības regula) (Dokuments attiecas uz EEZ)\",\n",
    "    \"mt\": \"Regolament (UE) 2016/679 tal-Parlament Ewropew u tal-Kunsill tat-27 ta' April 2016 dwar il-protezzjoni ta' persuni fiżiċi fir-rigward tal-ipproċessar ta' data personali u dwar il-moviment liberu ta' tali data, u li jħassar id-Direttiva 95/46/KE (Regolament Ġenerali dwar il-Protezzjoni tad-Data) (Test b'rilevanza għaż-ŻEE)\",\n",
    "    \"nl\": \"Verordening (EU) 2016/679 van het Europees Parlement en de Raad van 27 april 2016 betreffende de bescherming van natuurlijke personen in verband met de verwerking van persoonsgegevens en betreffende het vrije verkeer van die gegevens en tot intrekking van Richtlijn 95/46/EG (algemene verordening gegevensbescherming) (Tekst met EER-relevantie)\",\n",
    "    \"pl\": \"Rozporządzenie Parlamentu Europejskiego i Rady (UE) 2016/679 z dnia 27 kwietnia 2016 r. w sprawie ochrony osób fizycznych w związku z przetwarzaniem danych osobowych i w sprawie swobodnego przepływu takich danych oraz uchylające dyrektywę 95/46/WE (ogólne rozporządzenie o ochronie danych) (Tekst mający znaczenie dla EOG)\",\n",
    "    \"pt\": \"Regulamento (UE) 2016/679 do Parlamento Europeu e do Conselho de 27 de abril de 2016 relativo à proteção das pessoas singulares no que diz respeito ao tratamento de dados pessoais e à livre circulação desses dados e que revoga a Diretiva 95/46/CE (Regulamento Geral sobre a Proteção de Dados) (Texto relevante para o EEE)\",\n",
    "    \"ro\": \"Regulamentul (UE) 2016/679 al Parlamentului European și al Consiliului din 27 aprilie 2016 privind protecția persoanelor fizice în ceea ce privește prelucrarea datelor cu caracter personal și privind libera circulație a acestor date și de abrogare a Directivei 95/46/CE (Regulamentul general privind protecția datelor) (Text cu relevanță pentru SEE)\",\n",
    "    \"sk\": \"Nariadenie Európskeho parlamentu a Rady (EÚ) 2016/679 z 27. apríla 2016 o ochrane fyzických osôb pri spracúvaní osobných údajov a o voľnom pohybe takýchto údajov a o zrušení smernice 95/46/ES (všeobecné nariadenie o ochrane údajov) (Text s významom pre EHP)\",\n",
    "    \"sl\": \"Uredba (EU) 2016/679 Evropskega parlamenta in Sveta z dne 27. aprila 2016 o varstvu posameznikov pri obdelavi osebnih podatkov in o prostem pretoku takih podatkov ter o razveljavitvi Direktive 95/46/ES (splošna uredba o varstvu podatkov) (Besedilo velja za EGP)\",\n",
    "    \"sv\": \"Europaparlamentets och rådets förordning (EU) 2016/679 av den 27 april 2016 om skydd för fysiska personer med avseende på behandling av personuppgifter och om det fria flödet av sådana uppgifter och om upphävande av direktiv 95/46/EG (allmän dataskyddsförordning) (Text av betydelse för EES)\",\n",
    "    }\n",
    "\n",
    "for lang, title in test_dict1.items():\n",
    "    print(f\"{lang}: {shorten(lang, title)}\")"
   ]
  },
  {
   "cell_type": "code",
   "execution_count": 27,
   "id": "9ebc0f56-ed4e-4568-8369-5e63a2a19e25",
   "metadata": {},
   "outputs": [
    {
     "name": "stdout",
     "output_type": "stream",
     "text": [
      "bg: \n",
      "cs: \n",
      "da: \n",
      "de: Verordnung (EU) 2016/679\n",
      "el: \n",
      "en: Regulation (EU) 2016/679\n",
      "es: \n",
      "et: Euroopa Parlamendi ja nõukogu määrus (EL) 2016/679\n",
      "fi: Euroopan parlamentin ja neuvoston asetus (EU) 2016/679\n",
      "fr: Règlement (UE) 2016/679\n",
      "ga: \n",
      "hr: \n",
      "hu: \n",
      "it: \n",
      "lt: \n",
      "lv: \n",
      "mt: \n",
      "nl: \n",
      "pl: \n",
      "pt: \n",
      "ro: \n",
      "sk: \n",
      "sl: \n",
      "sv: Europaparlamentets och rådets förordning (EU) 2016/679\n"
     ]
    }
   ],
   "source": [
    "# https://eur-lex.europa.eu/eli/dir/2024/1499/oj\n",
    "test_dict2 = {\n",
    "    \"bg\": \"Директива (ЕС) 2024/1499 на Съвета от 7 май 2024 година относно стандартите за органите за равенство в областта на равното третиране на лицата независимо от техния расов или етнически произход, равно третиране в областта на заетостта и професиите независимо от тяхната религия или убеждения, увреждане, възраст или сексуална ориентация, равно третиране между жените и мъжете в областта на социалното осигуряване и при достъпа до стоки и услуги и тяхното предоставяне, и за изменение на директиви 2000/43/ЕО и 2004/113/ЕО\",\n",
    "    \"cs\": \"Směrnice Rady (EU) 2024/1499 ze dne 7. května 2024 o normách pro orgány pro rovné zacházení v oblasti rovného zacházení s osobami bez ohledu na jejich rasový nebo etnický původ, rovného zacházení v oblasti zaměstnání a povolání bez ohledu na jejich náboženské vyznání nebo víru, zdravotní postižení, věk nebo sexuální orientaci, rovného zacházení mezi ženami a muži v oblasti sociálního zabezpečení a při přístupu ke zboží a službám a jejich poskytování, a o změně směrnic 2000/43/ES a 2004/113/ES\",\n",
    "    \"da\": \"Rådets direktiv (EU) 2024/1499 af 7. maj 2024 om standarder for ligebehandlingsorganer på området for ligebehandling af personer uanset deres race eller etniske oprindelse, ligebehandling på beskæftigelses- og erhvervsområdet uanset deres religion eller tro, handicap, alder eller seksuelle orientering, ligebehandling mellem kvinder og mænd på området for social sikring og ved adgang til og levering af varer og tjenester, og om ændring af direktiverne 2000/43/EF og 2004/113/EF\",\n",
    "    \"de\": \"Richtlinie (EU) 2024/1499 des Rates vom 7. Mai 2024 über Standards für Gleichbehandlungsstellen im Bereich der Gleichbehandlung von Personen unabhängig von ihrer Rasse oder ethnischen Herkunft, der Gleichbehandlung im Bereich Beschäftigung und Beruf unabhängig von ihrer Religion oder Weltanschauung, Behinderung, Alter oder sexuellen Orientierung, der Gleichbehandlung von Frauen und Männern im Bereich der sozialen Sicherheit und beim Zugang zu und der Bereitstellung von Gütern und Dienstleistungen und zur Änderung der Richtlinien 2000/43/EG und 2004/113/EG\",\n",
    "    \"el\": \"Οδηγία (ΕΕ) 2024/1499 του Συμβουλίου της 7ης Μαΐου 2024 σχετικά με τα πρότυπα για τους φορείς ισότητας στον τομέα της ίσης μεταχείρισης των προσώπων ανεξαρτήτως φυλετικής ή εθνοτικής καταγωγής, της ίσης μεταχείρισης στον τομέα της απασχόλησης και της εργασίας ανεξαρτήτως θρησκείας ή πεποιθήσεων, αναπηρίας, ηλικίας ή σεξουαλικού προσανατολισμού, της ίσης μεταχείρισης μεταξύ γυναικών και ανδρών στον τομέα της κοινωνικής ασφάλισης και στην πρόσβαση και παροχή αγαθών και υπηρεσιών, και για την τροποποίηση των οδηγιών 2000/43/ΕΚ και 2004/113/ΕΚ\",\n",
    "    \"en\": \"Council Directive (EU) 2024/1499 of 7 May 2024 on standards for equality bodies in the field of equal treatment between persons irrespective of their racial or ethnic origin, equal treatment in matters of employment and occupation between persons irrespective of their religion or belief, disability, age or sexual orientation, equal treatment between women and men in matters of social security and in the access to and supply of goods and services, and amending Directives 2000/43/EC and 2004/113/EC\",\n",
    "    \"es\": \"Directiva (UE) 2024/1499 del Consejo, de 7 de mayo de 2024, sobre las normas relativas a los organismos de igualdad en el ámbito de la igualdad de trato entre las personas con independencia de su origen racial o étnico, la igualdad de trato entre las personas en materia de empleo y ocupación con independencia de su religión o convicciones, discapacidad, edad u orientación sexual, y la igualdad de trato entre mujeres y hombres en materia de seguridad social y en el acceso a bienes y servicios y su suministro, y por la que se modifican las Directivas 2000/43/CE y 2004/113/CE\",\n",
    "    \"et\": \"Nõukogu direktiiv (EL) 2024/1499, 7. mai 2024, standardite kohta, mis käsitlevad võrdõiguslikkuse asutusi isikute võrdse kohtlemise valdkonnas, sõltumata nende rassilisest või etnilisest päritolust, võrdset kohtlemist tööhõive ja elukutse valdkonnas, sõltumata nende usutunnistusest või veendumustest, puudest, vanusest või seksuaalsest sättumusest, naiste ja meeste võrdset kohtlemist sotsiaalkindlustuse valdkonnas ning kaupade ja teenuste kättesaadavust ja pakkumist, ning millega muudetakse direktiive 2000/43/EÜ ja 2004/113/EÜ\",\n",
    "    \"fi\": \"Neuvoston direktiivi (EU) 2024/1499, annettu 7 päivänä toukokuuta 2024, yhdenvertaisuuselinten standardeista henkilöiden yhdenvertaisen kohtelun alalla riippumatta heidän rodustaan tai etnisestä alkuperästään, yhdenvertaisesta kohtelusta työllisyyden ja ammatin alalla riippumatta heidän uskonnostaan tai vakaumuksistaan, vammastaan, iästään tai seksuaalisesta suuntautumisestaan, naisten ja miesten yhdenvertaisesta kohtelusta sosiaaliturvan alalla sekä tavaroiden ja palvelujen saatavuudesta ja tarjonnasta, ja direktiivien 2000/43/EY ja 2004/113/EY muuttamisesta\",\n",
    "    \"fr\": \"Directive (UE) 2024/1499 du Conseil du 7 mai 2024 relative aux normes applicables aux organismes de promotion de l'égalité de traitement entre les personnes indépendamment de leur origine raciale ou ethnique, à l'égalité de traitement en matière d'emploi et de profession indépendamment de leur religion ou de leurs convictions, d'un handicap, de l'âge ou de l'orientation sexuelle, à l'égalité de traitement entre les femmes et les hommes en matière de sécurité sociale et à l'accès aux biens et services et à leur fourniture, et modifiant les directives 2000/43/CE et 2004/113/CE\",\n",
    "    \"ga\": \"Treoir ón gComhairle (AE) 2024/1499 an 7 Bealtaine 2024 maidir le caighdeáin do chomhlachtaí comhionannais i réimse an chomhionannais córa idir daoine beag beann ar a gcine nó a mbunadh eitneach, comhionannas córa i gcúrsaí fostaíochta agus slí bheatha beag beann ar a gcreideamh nó a gcreideamh, míchumas, aois nó claonadh gnéasach, comhionannas córa idir mná agus fir i gcúrsaí slándála sóisialta agus i rochtain ar earraí agus seirbhísí agus a soláthar, agus lena leasaítear Treoracha 2000/43/CE agus 2004/113/CE\",\n",
    "    \"hr\": \"Direktiva Vijeća (EU) 2024/1499 od 7. svibnja 2024. o standardima za tijela za ravnopravnost u području jednakog postupanja prema osobama bez obzira na njihovo rasno ili etničko podrijetlo, jednakog postupanja u pitanjima zapošljavanja i zanimanja bez obzira na njihovu vjeru ili uvjerenja, invaliditet, dob ili seksualnu orijentaciju, jednakog postupanja između žena i muškaraca u pitanjima socijalne sigurnosti te u pristupu robi i uslugama i njihovoj isporuci, i o izmjeni direktiva 2000/43/EZ i 2004/113/EZ\",\n",
    "    \"hu\": \"A Tanács (EU) 2024/1499 irányelve (2024. május 7.) az egyenlő bánásmóddal foglalkozó szervek normáiról a személyek faji vagy etnikai származásától független egyenlő bánásmód területén, a vallásuktól vagy meggyőződésüktől, fogyatékosságuktól, életkoruktól vagy szexuális irányultságuktól független egyenlő bánásmódról a foglalkoztatás és a szakma területén, a nők és férfiak közötti egyenlő bánásmódról a szociális biztonság területén, valamint az árukhoz és szolgáltatásokhoz való hozzáférés és azok nyújtása terén, és az 2000/43/EK és a 2004/113/EK irányelvek módosításáról\",\n",
    "    \"it\": \"Direttiva (UE) 2024/1499 del Consiglio del 7 maggio 2024 relativa alle norme per gli organismi per la parità di trattamento nel campo della parità di trattamento tra le persone indipendentemente dalla razza o dall'origine etnica, della parità di trattamento in materia di occupazione e professione indipendentemente dalla religione o dalle convinzioni personali, dalla disabilità, dall'età o dall'orientamento sessuale, della parità di trattamento tra donne e uomini in materia di sicurezza sociale e nell'accesso ai beni e servizi e alla loro fornitura, e che modifica le direttive 2000/43/CE e 2004/113/CE\",\n",
    "    \"lt\": \"2024 m. gegužės 7 d. Tarybos direktyva (ES) 2024/1499 dėl lygybės institucijų standartų asmenų lygybės nepriklausomai nuo jų rasės ar etninės kilmės, lygybės užimtumo ir profesinės veiklos srityse nepriklausomai nuo jų religijos ar įsitikinimų, negalios, amžiaus ar seksualinės orientacijos, lygybės tarp moterų ir vyrų socialinės apsaugos srityje ir prekių bei paslaugų prieigos ir teikimo srityje, ir iš dalies keičianti direktyvas 2000/43/EB ir 2004/113/EB\",\n",
    "    \"lv\": \"Padomes Direktīva (ES) 2024/1499 (2024. gada 7. maijs) par vienlīdzības iestāžu standartiem attiecībā uz vienlīdzīgu attieksmi pret personām neatkarīgi no to rases vai etniskās izcelsmes, vienlīdzīgu attieksmi nodarbinātības un profesijas jomā neatkarīgi no to reliģijas vai pārliecības, invaliditātes, vecuma vai seksuālās orientācijas, vienlīdzīgu attieksmi starp sievietēm un vīriešiem sociālās aizsardzības jomā un piekļuvi precēm un pakalpojumiem un to sniegšanu, un ar ko groza direktīvas 2000/43/EK un 2004/113/EK\",\n",
    "    \"mt\": \"Direttiva tal-Kunsill (UE) 2024/1499 tas-7 ta' Mejju 2024 dwar standards għall-korpi għall-ugwaljanza fil-qasam tat-trattament ugwali bejn il-persuni irrispettivament mir-razza jew l-oriġini etnika tagħhom, trattament ugwali f'materji ta' impjieg u okkupazzjoni bejn il-persuni irrispettivament mir-reliġjon jew it-twemmin tagħhom, diżabilità, età jew orjentazzjoni sesswali, trattament ugwali bejn in-nisa u l-irġiel f'materji ta' sigurtà soċjali u fl-aċċess għall-oġġetti u s-servizzi u l-provvista tagħhom, u li temenda d-Direttivi 2000/43/KE u 2004/113/KE\",\n",
    "    \"nl\": \"Richtlijn (EU) 2024/1499 van de Raad van 7 mei 2024 betreffende normen voor gelijkheidsorganen op het gebied van gelijke behandeling van personen ongeacht hun ras of etnische afkomst, gelijke behandeling op het gebied van werkgelegenheid en beroep ongeacht hun godsdienst of overtuiging, handicap, leeftijd of seksuele geaardheid, gelijke behandeling van vrouwen en mannen op het gebied van sociale zekerheid en bij de toegang tot en levering van goederen en diensten, en tot wijziging van de richtlijnen 2000/43/EG en 2004/113/EG\",\n",
    "    \"pl\": \"Dyrektywa Rady (UE) 2024/1499 z dnia 7 maja 2024 r. w sprawie norm dla organów ds. równości w zakresie równego traktowania osób bez względu na rasę lub pochodzenie etniczne, równego traktowania w sprawach zatrudnienia i pracy osób bez względu na religię lub przekonania, niepełnosprawność, wiek lub orientację seksualną, równego traktowania kobiet i mężczyzn w sprawach zabezpieczenia społecznego oraz dostępu do towarów i usług i ich dostarczania, oraz zmieniająca dyrektywy 2000/43/WE i 2004/113/WE\",\n",
    "    \"pt\": \"Diretiva (UE) 2024/1499 do Conselho de 7 de maio de 2024 relativa às normas para os organismos de igualdade no domínio da igualdade de tratamento entre as pessoas independentemente da sua raça ou origem étnica, igualdade de tratamento em matéria de emprego e profissão entre as pessoas independentemente da sua religião ou crença, deficiência, idade ou orientação sexual, igualdade de tratamento entre mulheres e homens em matéria de segurança social e no acesso a bens e serviços e respetivo fornecimento, e que altera as Diretivas 2000/43/CE e 2004/113/CE\",\n",
    "    \"ro\": \"Directiva (UE) 2024/1499 a Consiliului din 7 mai 2024 privind standardele pentru organismele de egalitate în domeniul egalității de tratament între persoane, indiferent de rasă sau origine etnică, egalitatea de tratament în materie de ocupare a forței de muncă și profesie între persoane, indiferent de religie sau convingeri, dizabilitate, vârstă sau orientare sexuală, egalitatea de tratament între femei și bărbați în materie de securitate socială și în accesul la bunuri și servicii și furnizarea acestora, și de modificare a directivelor 2000/43/CE și 2004/113/CE\",\n",
    "    \"sk\": \"Smernica Rady (EÚ) 2024/1499 z 7. mája 2024 o normách pre orgány pre rovnaké zaobchádzanie v oblasti rovnakého zaobchádzania s osobami bez ohľadu na ich rasový alebo etnický pôvod, rovnakého zaobchádzania v oblasti zamestnanosti a povolania bez ohľadu na ich náboženstvo alebo vieru, zdravotné postihnutie, vek alebo sexuálnu orientáciu, rovnakého zaobchádzania medzi ženami a mužmi v oblasti sociálneho zabezpečenia a v prístupe k tovarom a službám a ich poskytovaní, a o zmene smerníc 2000/43/ES a 2004/113/ES\",\n",
    "    \"sl\": \"Direktiva Sveta (EU) 2024/1499 z dne 7. maja 2024 o standardih za organe za enakost na področju enakega obravnavanja oseb ne glede na njihovo raso ali etnično poreklo, enakega obravnavanja na področju zaposlovanja in poklicev ne glede na njihovo vero ali prepričanje, invalidnost, starost ali spolno usmerjenost, enakega obravnavanja žensk in moških na področju socialne varnosti ter dostopa do blaga in storitev in njihovega zagotavljanja, in o spremembi direktiv 2000/43/ES in 2004/113/ES\",\n",
    "    \"sv\": \"Rådets direktiv (EU) 2024/1499 av den 7 maj 2024 om normer för likabehandlingsorgan på området för likabehandling av personer oavsett ras eller etniskt ursprung, likabehandling i arbetslivet och yrkeslivet oavsett religion eller övertygelse, funktionshinder, ålder eller sexuell läggning, likabehandling mellan kvinnor och män i fråga om social trygghet och tillgång till och tillhandahållande av varor och tjänster, och om ändring av direktiven 2000/43/EG och 2004/113/EG\"\n",
    "}\n",
    "\n",
    "for lang, title in test_dict1.items():\n",
    "    print(f\"{lang}: {shorten(lang, title)}\")"
   ]
  },
  {
   "cell_type": "code",
   "execution_count": null,
   "id": "4e663681-f54d-43f4-9d35-4ff21c979da5",
   "metadata": {},
   "outputs": [],
   "source": []
  }
 ],
 "metadata": {
  "kernelspec": {
   "display_name": "Python 3 (ipykernel)",
   "language": "python",
   "name": "python3"
  },
  "language_info": {
   "codemirror_mode": {
    "name": "ipython",
    "version": 3
   },
   "file_extension": ".py",
   "mimetype": "text/x-python",
   "name": "python",
   "nbconvert_exporter": "python",
   "pygments_lexer": "ipython3",
   "version": "3.12.3"
  }
 },
 "nbformat": 4,
 "nbformat_minor": 5
}
